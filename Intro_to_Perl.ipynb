{
  "nbformat": 4,
  "nbformat_minor": 0,
  "metadata": {
    "kernelspec": {
      "display_name": "Python 3",
      "language": "python",
      "name": "python3"
    },
    "language_info": {
      "codemirror_mode": {
        "name": "ipython",
        "version": 3
      },
      "file_extension": ".py",
      "mimetype": "text/x-python",
      "name": "python",
      "nbconvert_exporter": "python",
      "pygments_lexer": "ipython3",
      "version": "3.6.8"
    },
    "colab": {
      "name": "Intro_to_Perl.ipynb",
      "provenance": []
    }
  },
  "cells": [
    {
      "cell_type": "markdown",
      "metadata": {
        "id": "5jwpP40FmvBJ",
        "colab_type": "text"
      },
      "source": [
        "# Introduction to Programming Perl\n",
        "\n",
        "<img src=\"https://github.com/keithjtamu/perl/blob/master/image/perl_camel.jpg?raw=1\" align=\"right\" height=\"80\" width=\"80\" />\n",
        "\n",
        "Texas A&amp;M High Performance Research Computing (TAMU HPRC)\n",
        "<br />\n",
        "Keith Jackson\n",
        "<br />\n",
        "<a href=\"https://hprc.tamu.edu/training/intro_perl.html\">course page</a>\n",
        "<br />\n",
        "<a href=\"http://perldoc.perl.org\">perldoc.perl.org</a>\n",
        "<br />\n",
        "<a href=\"https://github.com/keithjtamu/perl\">samples in github</a>\n",
        "\n",
        "\n",
        "\n"
      ]
    },
    {
      "cell_type": "markdown",
      "metadata": {
        "id": "VC_NVRFBmvBW",
        "colab_type": "text"
      },
      "source": [
        "# HPRC Info\n",
        "\n",
        "| Item | Value |\n",
        "| -------------: | :------------- |\n",
        "|  **Homepage** | <a href=\"https://hprc.tamu.edu/\">hprc.tamu.edu</a>  |\n",
        "|  **E-mail** | <a href=\"mailto:help@hprc.tamu.edu\">help@hprc.tamu.edu</a> |\n",
        "| **Phone** | 979-845-0219 |\n",
        "| **Address** | <a href=\"http://aggiemap.tamu.edu?bldg=0425\">Henderson Hall, 222 Jones St</a> |"
      ]
    },
    {
      "cell_type": "markdown",
      "metadata": {
        "id": "hVkCTR8LmvBa",
        "colab_type": "text"
      },
      "source": [
        "# Agenda <a class=\"anchor\" id=\"TOC\"></a>\n",
        "\n",
        "<img src=\"https://github.com/keithjtamu/perl/blob/master/image/agenda.jpg?raw=1\" align=\"right\" />\n",
        "\n",
        "- [executing your program](#executing)\n",
        "- [finding documentation](#documentation)\n",
        "- [statement syntax](#syntax)\n",
        "- [variables](#variables), [constants](#constants), and [operators](#operators)\n",
        "- [control flow](#control)\n",
        "- [error messages](#errors)\n",
        "- [I/O](#IO)\n",
        "- [regular expressions](#regex)\n",
        "- [references](#references)"
      ]
    },
    {
      "cell_type": "markdown",
      "metadata": {
        "id": "fAH8jAf8mvBe",
        "colab_type": "text"
      },
      "source": [
        "# How to Run a Perl Program  <a class=\"anchor\" id=\"executing\"></a>\n",
        "\n",
        "\n",
        "Program files usually end in \"**.pl**\" suffix.  Run it from command line with **perl** command:\n",
        "\n",
        "```bash\n",
        "   perl sum.pl\n",
        "```\n",
        "\n",
        "See <a href=\"https://github.com/keithjtamu/perl/blob/master/sum.pl\">sum.pl</a>."
      ]
    },
    {
      "cell_type": "markdown",
      "metadata": {
        "id": "bVl5MIALho4B",
        "colab_type": "text"
      },
      "source": [
        "# Connect to Titan vm\n",
        "\n",
        "* Open MobaXterm\n",
        "* Open local terminal\n",
        "* `ssh titan.tamu.edu`\n",
        "* Use your NetID password\n",
        "\n",
        "```\n",
        "pwd\n",
        "cd Introduction_to_Perl\n",
        "ls\n",
        "cat sum.pl\n",
        "perl sum.pl\n",
        "```"
      ]
    },
    {
      "cell_type": "markdown",
      "metadata": {
        "id": "nHSfGhzpmvBx",
        "colab_type": "text"
      },
      "source": [
        "# Making Script Executable\n",
        "\n",
        "In order to run a Perl script or other shell script as a program, we need the **<tt>#!</tt>** (_sha-bang_) on the first line, followed by the interpreter.  You can put the full path to **perl** or **<tt>/bin/env perl</tt>**\n",
        "\n",
        "```\n",
        "./sum.pl\n",
        "ls -l sum.pl\n",
        "chmod +x sum.pl\n",
        "ls -l sum.pl\n",
        "./sum.pl\n",
        "```"
      ]
    },
    {
      "cell_type": "markdown",
      "metadata": {
        "id": "U_u7WlYGmvCS",
        "colab_type": "text"
      },
      "source": [
        "# Run Perl with **-e**\n",
        "\n",
        "You can run short programs with **-e** option:\n",
        "\n",
        "```bash\n",
        "   perl -e 'printf(\"%.15f\\n\", 2*atan2(1,0))'\n",
        "```\n"
      ]
    },
    {
      "cell_type": "code",
      "metadata": {
        "id": "hfQ59yR0mvCU",
        "colab_type": "code",
        "colab": {}
      },
      "source": [
        "%%bash\n",
        "\n",
        "perl -e 'printf(\"%.15f\\n\", 2*atan2(1,0))'"
      ],
      "execution_count": 0,
      "outputs": []
    },
    {
      "cell_type": "markdown",
      "metadata": {
        "collapsed": true,
        "id": "GMyDZZEwmvCc",
        "colab_type": "text"
      },
      "source": [
        "# Testing With **<tt>eval perl</tt>**\n",
        "\n",
        "```bash\n",
        "eval perl\n",
        "@a = ('red', 'green', 'blue');\n",
        "print @a, \"\\n\";\n",
        "print @a . \"\\n\";\n",
        "print \"@a\\n\";\n",
        "```"
      ]
    },
    {
      "cell_type": "code",
      "metadata": {
        "id": "dorEtRAQmvCe",
        "colab_type": "code",
        "colab": {}
      },
      "source": [
        "%%bash\n",
        "\n",
        "eval perl\n",
        "@a = ('red', 'green', 'blue');\n",
        "print @a, \"\\n\";\n",
        "print @a . \"\\n\";\n",
        "print \"@a\\n\";\n"
      ],
      "execution_count": 0,
      "outputs": []
    },
    {
      "cell_type": "markdown",
      "metadata": {
        "collapsed": true,
        "id": "tHvu5OXomvCl",
        "colab_type": "text"
      },
      "source": [
        "# REPL Perl Shells\n",
        "\n",
        "**REPL** = Read-Eval-Print-Loop\n",
        "\n",
        "- **perlconsole**\n",
        "  - installed on ada cluster **/scratch/training/Perl/bin/perlconsole**\n",
        "  - available from [CPAN](http://search.cpan.org/~sukria/perlconsole-0.4/perlconsole)\n",
        "- **perli**\n",
        "  - portable\n",
        "  - available from [github](http://search.cpan.org/~sukria/perlconsole-0.4/perlconsole\")\n",
        "- **ips**\n",
        "  - requires rlwrap\n",
        "  - three lines of code (from [comment](https://stackoverflow.com/a/22840242) )\n",
        "  \n",
        "```bash\n",
        "#!/bin/sh\n",
        "echo 'This is Interactive Perl shell'\n",
        "/bin/rlwrap -A -pgreen -S\"perl> \" /usr/bin/perl -wnE'say eval()//$@'\n",
        "```\n"
      ]
    },
    {
      "cell_type": "markdown",
      "metadata": {
        "id": "tNjN0hwNmvCo",
        "colab_type": "text"
      },
      "source": [
        "# Documentation <a class=\"anchor\" id=\"documentation\"></a>\n",
        "\n",
        "1. Unix man pages\n",
        "```bash\n",
        "man perl\n",
        "man perlop\n",
        "man perlfunc\n",
        "perldoc -f sort\n",
        "```\n",
        "2. Websites, such as http://perldoc.perl.org\n",
        "\n",
        "   (get specific man pages, like <b>perlop</b> at http://perldoc.perl.org/perlop.html)"
      ]
    },
    {
      "cell_type": "markdown",
      "metadata": {
        "id": "6SKPMj-NmvCy",
        "colab_type": "text"
      },
      "source": [
        "# Perl Statement Syntax <a class=\"anchor\" id=\"syntax\"></a>\n",
        "\n",
        "- statements separated by semicolons: \";\"\n",
        "- statement blocks surrounded by curly braces: \"{ }\"\n",
        "- comments preceded by pound sign (hash) : \"#\"\n",
        "\n"
      ]
    },
    {
      "cell_type": "code",
      "metadata": {
        "id": "Z2nyFFs9mvC0",
        "colab_type": "code",
        "colab": {}
      },
      "source": [
        "%%perl\n",
        "\n",
        "# set the top value of our loop\n",
        "$max = 5;\n",
        "\n",
        "$i = 1;    # initialize i\n",
        "while ($i <= $max)\n",
        "{\n",
        "   $a[$i] = $i ** 2 + 1;\n",
        "   printf(\"%3d %8.2f\\n\", $i, $a[$i]);\n",
        "   $i++;\n",
        "}"
      ],
      "execution_count": 0,
      "outputs": []
    },
    {
      "cell_type": "markdown",
      "metadata": {
        "id": "0lU8XAuKmvDM",
        "colab_type": "text"
      },
      "source": [
        "# Variable Names <a class=\"anchor\" id=\"variables\"></a>\n",
        "\n",
        "Names in Perl:\n",
        "  - start with a letter\n",
        "  - contain letter, numbers, and underscores \"\\_\"\n",
        "  - case sensitive\n",
        "\n",
        "Major types:\n",
        "  - \\$ scalars (single value)\n",
        "  - @ lists\n",
        "  - % hash tables"
      ]
    },
    {
      "cell_type": "markdown",
      "metadata": {
        "id": "6PMG3DrzmvDO",
        "colab_type": "text"
      },
      "source": [
        "# Scalars\n",
        "\n",
        "- Start with dollar sign \"\\$\"\n",
        "- Types include:\n",
        "  - integer\n",
        "  - floating point\n",
        "  - string\n",
        "  - binary data\n",
        "  - reference (like a pointer)\n",
        "- Perl is not strongly typed  \n"
      ]
    },
    {
      "cell_type": "code",
      "metadata": {
        "id": "2Ta_wUUjmvDQ",
        "colab_type": "code",
        "colab": {}
      },
      "source": [
        "%%perl\n",
        "\n",
        "$a = 2.75;           # scalar, floating point\n",
        "\n",
        "$color = 'yellow';   # scalar, string\n",
        "\n",
        "print \"a is $a\\n\";\n",
        "print \"color is $color\\n\";"
      ],
      "execution_count": 0,
      "outputs": []
    },
    {
      "cell_type": "markdown",
      "metadata": {
        "id": "Y1Pkc5n9mvDZ",
        "colab_type": "text"
      },
      "source": [
        "# Lists\n",
        "\n",
        "- start with an at symbol \"@\"\n",
        "- also called \"arrays\"\n",
        "- one-dimensional\n",
        "- index zero-based\n",
        "- not strongly typed (can contain mixture of scalar types)\n",
        "- index syntax uses square brackets"
      ]
    },
    {
      "cell_type": "code",
      "metadata": {
        "id": "PpOHTJmjmvDb",
        "colab_type": "code",
        "colab": {}
      },
      "source": [
        "%%perl\n",
        "\n",
        "@a = ( 2, 3, 5, 7, 11 );\n",
        "print \"a sub three is $a[3]\\n\";\n",
        "$a[5] = 13;\n",
        "print \"a is @a\\n\";\n",
        "\n",
        "# cast list to scalar to get length\n",
        "$len = @a;\n",
        "print \"len is $len\\n\";\n",
        "\n",
        "# dollar hash gives you index of last element\n",
        "$last_index = $#a;\n",
        "\n",
        "print \"last index is $last_index\\n\""
      ],
      "execution_count": 0,
      "outputs": []
    },
    {
      "cell_type": "markdown",
      "metadata": {
        "id": "YzvUK82kmvDh",
        "colab_type": "text"
      },
      "source": [
        "# Hash Tables\n",
        "\n",
        "- start with percent sign \"\\%\"\n",
        "- implemented as a list with special properties\n",
        "- key-value pairs\n",
        "- keys are unique\n",
        "- keys can be any scalar value\n",
        "- values can be any scalar value\n",
        "- index syntax users curly braces"
      ]
    },
    {
      "cell_type": "code",
      "metadata": {
        "id": "VMArTnFLmvDj",
        "colab_type": "code",
        "colab": {}
      },
      "source": [
        "%%perl\n",
        "\n",
        "%h = ( 'name' => \"Sam\", phone => \"555-1212\");\n",
        "\n",
        "print \"name is $h{name}\\n\";\n",
        "$h{age} = 27;\n",
        "\n",
        "@keys = keys %h;\n",
        "print \"h has keys: @keys\\n\";"
      ],
      "execution_count": 0,
      "outputs": []
    },
    {
      "cell_type": "markdown",
      "metadata": {
        "id": "5xIPAJBVmvDp",
        "colab_type": "text"
      },
      "source": [
        "# Same Name, Different Variables\n",
        "\n",
        "- same name can be reused for scalars, lists, hashes, subroutines, file handles, etc.\n",
        "- each of the following variables refer to something different:\n",
        "\n",
        "```\n",
        "$x = 5;\n",
        "$X = -3.2;\n",
        "@x = ( 3, 7, 23 );\n",
        "%x = ( height => 23, width = 14 );\n",
        "&x($arg1, $arg2);\n",
        "```"
      ]
    },
    {
      "cell_type": "code",
      "metadata": {
        "id": "6LaRJNf3mvDq",
        "colab_type": "code",
        "colab": {}
      },
      "source": [
        "%%perl\n",
        "\n",
        "# it is bad practice to use the same name for list and scalar\n",
        "@ary = (3, 5, 7, 9);\n",
        "$ary = 22;\n",
        "\n",
        "print \"@ary\\n\";\n",
        "print \"$ary\\n\";\n",
        "print \"$ary[2]\\n\"\n",
        "\n"
      ],
      "execution_count": 0,
      "outputs": []
    },
    {
      "cell_type": "markdown",
      "metadata": {
        "id": "T3glzWndmvDw",
        "colab_type": "text"
      },
      "source": [
        "# Assignment\n",
        "\n",
        "- use single equal sign\n",
        "- left-hand side must be variable (memory location)\n",
        "- otherwise known as \"L-value\"\n",
        "\n",
        "```\n",
        "$a = 2.75;          # scalar, floating point\n",
        "$color = 'yellow';  # scalar, string\n",
        "# array of four strings\n",
        "@ary = ( \"Perl\", \"C++\", \"Java\", \"FORTRAN\", );\n",
        "# hash, two keys (strings), numeric values\n",
        "%ht = ( \"AAPL\" => 282.52, \"MSFT\" => 24.38, ); \n",
        "```"
      ]
    },
    {
      "cell_type": "markdown",
      "metadata": {
        "id": "RraLHG0emvDz",
        "colab_type": "text"
      },
      "source": [
        "# Operator Assignment\n",
        "\n",
        "- ***var* *op*= *val*** same as ***var* = *var* *op* *val***\n",
        "\n",
        "```\n",
        "$a += 10;   $a = $a + 10;       # add 10 to $a\n",
        "$b *= 2.5;         # multiply $b by 2.5\n",
        "$name .= ', Jr.';  # append to $name\n",
        "$mode &= 0722;     # apply bitwise mask to $mode\n",
        "```"
      ]
    },
    {
      "cell_type": "markdown",
      "metadata": {
        "id": "2OO63V6SmvD1",
        "colab_type": "text"
      },
      "source": [
        "# Numeric Constants <a class=\"anchor\" id=\"constants\"></a>\n",
        "\n",
        "```\n",
        "10       # decimal integer\n",
        "0722     # octal integer\n",
        "0xF3E9   # hexadecimal integer \n",
        "-2.532   # floating point\n",
        "6.022E23 # floating point (scientific)\n",
        "```"
      ]
    },
    {
      "cell_type": "markdown",
      "metadata": {
        "id": "lQGxhQV_mvD4",
        "colab_type": "text"
      },
      "source": [
        "# String Constants\n",
        "\n",
        "```\n",
        "'simple'       # single quotes\n",
        "\"one\\ttwo\"     # double quotes\n",
        "<<\"END_TEXT\";  # here document (dbl quotes)\n",
        "1\\t15kg\\t3:25\n",
        "2\\t9kg\\t0:22\n",
        "END_TEXT\n",
        "```\n",
        "\n",
        "See <a href=\"https://perldoc.perl.org/perlop.html#Quote-and-Quote-like-Operators\">https://perldoc.perl.org/perlop.html#Quote-and-Quote-like-Operators</a>."
      ]
    },
    {
      "cell_type": "markdown",
      "metadata": {
        "id": "jAKN6KxcmvD7",
        "colab_type": "text"
      },
      "source": [
        "# Quotes\n",
        "\n",
        "- single quotes: taken literally\n",
        "- double quotes: interpolate variables and escape sequences\n",
        "  - \\n newline\n",
        "  - \\t tab\n",
        "- here document: multiline (terminating string indicates quote type"
      ]
    },
    {
      "cell_type": "code",
      "metadata": {
        "id": "_3v64QXfmvD9",
        "colab_type": "code",
        "colab": {}
      },
      "source": [
        "%%perl\n",
        "\n",
        "$name     = 'Jupyter';\n",
        "$greeting = \"Hello, my name is $name.\";\n",
        "$mistake  = 'Hello, my name is $name.';\n",
        "\n",
        "print \"greeting: \", $greeting, \"\\n\";\n",
        "print \"mistake : \", $mistake, \"\\n\";\n"
      ],
      "execution_count": 0,
      "outputs": []
    },
    {
      "cell_type": "code",
      "metadata": {
        "id": "oz78MqAbmvED",
        "colab_type": "code",
        "colab": {}
      },
      "source": [
        "%%perl\n",
        "\n",
        "$name = 'Jupyter'; $age = 3; $favcolor = 'maroon';\n",
        "\n",
        "print <<\"END_STATEMENT\";   # semicolon goes before quote\n",
        " This is a paragraph about $name, who is $age years old.\n",
        " $name has a favorite color: $favcolor.\n",
        "\n",
        " And now, a tab-aligned table:\n",
        " \n",
        " 15\\t23\\t83\n",
        " 22\\t 4\\t 6\n",
        "END_STATEMENT\n"
      ],
      "execution_count": 0,
      "outputs": []
    },
    {
      "cell_type": "markdown",
      "metadata": {
        "id": "3aNqVpLPmvEK",
        "colab_type": "text"
      },
      "source": [
        "# Operators <a class=\"anchor\" id=\"operators\"></a>\n",
        "\n",
        "- numeric operators are basically like C/C++/Java, plus **\\*\\*** for exponent\n",
        "- string operators **.** (concatenate) and **x** (repeat)\n",
        "- regular expression operators **=~**, **!~**, **s///**, **tr///**, etc.\n",
        "- logical operators (from C/C++/Java or English)\n",
        "- relational operators (numeric and stringwise are different)\n",
        "\n",
        "See: http://perldoc.perl.org/perlop.html"
      ]
    },
    {
      "cell_type": "markdown",
      "metadata": {
        "id": "_iBU5GRbmvEM",
        "colab_type": "text"
      },
      "source": [
        "# Numeric operators\n",
        "\n",
        "```\n",
        "$x + 3      -4.3 / $z       2 ** 10\n",
        "$i++        --$j            $f % $mod\n",
        "```"
      ]
    },
    {
      "cell_type": "markdown",
      "metadata": {
        "id": "v4R0Ts8TmvEO",
        "colab_type": "text"
      },
      "source": [
        "# Relational Operators\n",
        "\n",
        "```\n",
        "# numeric\n",
        "$x == 3      $a >= -4.3       $m != $n\n",
        "\n",
        "# stringwise\n",
        "$y eq \"AT\"   $title lt 'm'    $q ne 'B'\n",
        "```"
      ]
    },
    {
      "cell_type": "markdown",
      "metadata": {
        "id": "qnAVP3EMmvEP",
        "colab_type": "text"
      },
      "source": [
        "# Sort Comparison Operators\n",
        "<img src=\"https://github.com/keithjtamu/perl/blob/master/image/scales.png?raw=1\" align=\"right\" />\n",
        "\n",
        "|   a |  b                       |\n",
        "| ---: | :-----                |\n",
        "| -1 | Left is less than right |\n",
        "|  0 | Left equals right |\n",
        "|  1 | Left is greater than right |\n",
        "\n",
        "```\n",
        "# numeric      stringwise\n",
        "$x <=> $y      $s cmp $t\n",
        "```"
      ]
    },
    {
      "cell_type": "markdown",
      "metadata": {
        "id": "7o6HC5domvER",
        "colab_type": "text"
      },
      "source": [
        "# Logical Operators\n",
        "\n",
        "```\n",
        "# C-style\n",
        "$ready && ($y > 2)    !$done     $e || $r\n",
        "\n",
        "# lower precedence\n",
        "$ready and $y > 2    not $done    $e or $r\n",
        "\n",
        "# ternary conditional\n",
        "($d != 0) ? ($n / $d) : \"Inf\"\n",
        "```"
      ]
    },
    {
      "cell_type": "markdown",
      "metadata": {
        "id": "UWtig7mbmvEZ",
        "colab_type": "text"
      },
      "source": [
        "# Other Operators\n",
        "\n",
        "```\n",
        "# string concatenation\n",
        "\"First \" . $item\n",
        "\n",
        "# string repetition\n",
        "\"AB\" x 10\n",
        "\n",
        "# range operator\n",
        "1..10        0..$#ary\n",
        "```"
      ]
    },
    {
      "cell_type": "code",
      "metadata": {
        "id": "D9lYRjuzmvEc",
        "colab_type": "code",
        "colab": {}
      },
      "source": [
        "%%perl\n",
        "\n",
        "$first = \"Juan\"; $last = \"Lopez\";\n",
        "\n",
        "$full = $first . \" \" . $last;\n",
        "\n",
        "print \"$last, $first or $full\\n\";\n",
        "\n",
        "$howdies = \"Howdy! \" x 10;\n",
        "\n",
        "print $howdies, \"\\n\";\n",
        "\n",
        "@list = (1..55);\n",
        "\n",
        "print \"@list\\n\";"
      ],
      "execution_count": 0,
      "outputs": []
    },
    {
      "cell_type": "markdown",
      "metadata": {
        "id": "I9mMGcKImvEk",
        "colab_type": "text"
      },
      "source": [
        "# Perl Control Statements <a class=\"anchor\" id=\"control\"></a>\n",
        "\n",
        "- Conditionals:\n",
        "  - **if**/**elsif**/**else**\n",
        "  - **unless** (inverse of \"**if**\")\n",
        "  - experimental **given**/**when** like **switch**/**case**\n",
        "- Loops:\n",
        "  - **for(;;)**\n",
        "  - **foreach ()**\n",
        "  - **while()**\n",
        "  - **until()**"
      ]
    },
    {
      "cell_type": "code",
      "metadata": {
        "id": "EgGc9cUkmvEp",
        "colab_type": "code",
        "colab": {}
      },
      "source": [
        "%%perl\n",
        "\n",
        "$grade = 44;\n",
        "\n",
        "if ($grade >= 90)\n",
        "{\n",
        "    $letter = 'A';\n",
        "}\n",
        "elsif ($grade >= 80)\n",
        "{\n",
        "    $letter = 'B';\n",
        "}\n",
        "elsif ($grade >= 70)\n",
        "{\n",
        "    $letter = 'C';\n",
        "}\n",
        "else\n",
        "{\n",
        "    $letter = 'F';\n",
        "}\n",
        "\n",
        "printf(\"A grade of %d is a(n) %s\\n\", $grade, $letter);"
      ],
      "execution_count": 0,
      "outputs": []
    },
    {
      "cell_type": "code",
      "metadata": {
        "id": "lplIbQG3mvEw",
        "colab_type": "code",
        "colab": {}
      },
      "source": [
        "%%perl\n",
        "\n",
        "$grade = 88;\n",
        "\n",
        "unless ($grade >= 70)\n",
        "{\n",
        "    $letter = 'F';\n",
        "}\n",
        "else\n",
        "{\n",
        "    $letter = ($grade >= 90) ? 'A' : (($grade >= 80) ? 'B' : 'C')\n",
        "}\n",
        "\n",
        "printf(\"A grade of %d is a(n) %s\\n\", $grade, $letter);"
      ],
      "execution_count": 0,
      "outputs": []
    },
    {
      "cell_type": "code",
      "metadata": {
        "id": "TfoiS7m1mvE4",
        "colab_type": "code",
        "colab": {}
      },
      "source": [
        "%%perl\n",
        "\n",
        "# Newer features require explicit version request\n",
        "use v5.14;\n",
        "\n",
        "no if ($] >= 5.018), 'warnings' => 'experimental';\n",
        "\n",
        "\n",
        "my $grade = 88;\n",
        "my $letter;\n",
        "\n",
        "# \"given\" similar to \"switch\" in C/C++/Java\n",
        "given ($grade)\n",
        "{\n",
        "    # \"when\" similar to \"case\"\n",
        "    when ($_ >= 90) { $letter = 'A' }\n",
        "    when ($_ >= 80) { $letter = 'B' }\n",
        "    when ($_ >= 70) { $letter = 'C' }\n",
        "    default { $letter = 'F' }\n",
        "}\n",
        "\n",
        "\n",
        "printf(\"A grade of %d is a(n) %s\\n\", $grade, $letter);"
      ],
      "execution_count": 0,
      "outputs": []
    },
    {
      "cell_type": "markdown",
      "metadata": {
        "id": "pZAiDs39mvE_",
        "colab_type": "text"
      },
      "source": [
        "# Conditional After Statement\n",
        "\n",
        "- put statement *before* conditional\n",
        "- does not need braces\n",
        "- no way to handle \"else\"\n",
        "- can be confusing\n",
        "\n",
        "```\n",
        "print \"f is even\\n\" if ($f % 2 == 0);\n",
        "\n",
        "print \"not capitalized\\n\"\n",
        "    unless ($name =~ /^[A-Z]/);\n",
        "```"
      ]
    },
    {
      "cell_type": "markdown",
      "metadata": {
        "id": "ygJe5LCPmvFB",
        "colab_type": "text"
      },
      "source": [
        "# Logical Operator as Conditional\n",
        "\n",
        "- Perl does \"lazy\" logical evaluation\n",
        "- does not need braces\n",
        "- no way to handle \"else\"\n",
        "- can be confusing\n",
        "\n",
        "```\n",
        "($y != 0) &&           # C-style\n",
        "    $ratio = $x / $y;\n",
        "    \n",
        "(-f $myfile) or        # word style\n",
        "    die \"File $myfile does not exist!\"; \n",
        "```"
      ]
    },
    {
      "cell_type": "markdown",
      "metadata": {
        "id": "kZlhjBoOmvFD",
        "colab_type": "text"
      },
      "source": [
        "# While Loops\n",
        "\n",
        "- **while(*condition*)**\n",
        "- Conditional runs before the loop body each time\n",
        "  - if true, runs the loop body\n",
        "  - if false, continues after loop\n",
        "\n",
        "```perl\n",
        "while ($answer ne 'q')\n",
        "{\n",
        "  ...\n",
        "  # need something to eventually make condition false\n",
        "}\n",
        "```"
      ]
    },
    {
      "cell_type": "code",
      "metadata": {
        "id": "sUCLF8aHmvFF",
        "colab_type": "code",
        "colab": {}
      },
      "source": [
        "%%perl\n",
        "\n",
        "$i = 0;\n",
        "while ($i < 7)\n",
        "{\n",
        "   printf(\"%d %d\\n\", $i, $i *23);\n",
        "   $i += 2;\n",
        "}"
      ],
      "execution_count": 0,
      "outputs": []
    },
    {
      "cell_type": "markdown",
      "metadata": {
        "id": "oxAMjt2GmvFO",
        "colab_type": "text"
      },
      "source": [
        "# C-Style **for** Loops\n",
        "\n",
        "1. initialize\n",
        "2. test\n",
        "3. increment\n",
        "\n",
        "```\n",
        "for ($i = 1; $i < 10; $i++) {\n",
        "  print \"$i\\n\";\n",
        "}\n",
        "```\n",
        "\n",
        "Equivalent:\n",
        "\n",
        "```\n",
        "$i = 1;\n",
        "while ($i < 10) {\n",
        "   print \"$i\\n\";\n",
        "   $i++;\n",
        "}\n",
        "```"
      ]
    },
    {
      "cell_type": "code",
      "metadata": {
        "id": "7ZPhPu4TmvFQ",
        "colab_type": "code",
        "colab": {}
      },
      "source": [
        "%%perl\n",
        "\n",
        "for ($i = 1; $i <= 10; $i++)\n",
        "{\n",
        "   printf(\"%3d %4d\\n\", $i, $i ** 2);\n",
        "}"
      ],
      "execution_count": 0,
      "outputs": []
    },
    {
      "cell_type": "markdown",
      "metadata": {
        "id": "g6pQpxNvmvGY",
        "colab_type": "text"
      },
      "source": [
        "# Foreach Loops\n",
        "\n",
        "- specify **foreach *var* (*list*)**\n",
        "- loop variable gets each value in the list"
      ]
    },
    {
      "cell_type": "code",
      "metadata": {
        "id": "n9eWkm4ImvGa",
        "colab_type": "code",
        "colab": {}
      },
      "source": [
        "%%perl\n",
        "\n",
        "@colors = ('red', 'orange', 'yellow', 'green', 'blue', 'purple');\n",
        "\n",
        "# $col is loop variable, @colors is list\n",
        "foreach $col (@colors)\n",
        "{\n",
        "    print \"color is $col\\n\"\n",
        "}"
      ],
      "execution_count": 0,
      "outputs": []
    },
    {
      "cell_type": "markdown",
      "metadata": {
        "id": "ocHt1VV9mvGi",
        "colab_type": "text"
      },
      "source": [
        "# Spanning a List\n",
        "\n",
        "- iterate over indices, from 0 to $#array\n",
        "\n",
        "```\n",
        "foreach $i (0..$#ary)\n",
        "{\n",
        "   printf(\"%3d %5.2f\\n\", $i, $ary[$i]);\n",
        "}\n",
        "```"
      ]
    },
    {
      "cell_type": "code",
      "metadata": {
        "id": "IaKhIDvBmvGj",
        "colab_type": "code",
        "colab": {}
      },
      "source": [
        "%%perl\n",
        "\n",
        "foreach $i (0..20)\n",
        "{\n",
        "   $sq[$i] = $i ** 2;\n",
        "   $cb[$i] = $i ** 3;\n",
        "}\n",
        "\n",
        "print \"@sq\\n\";\n",
        "print \"@cb\\n\";"
      ],
      "execution_count": 0,
      "outputs": []
    },
    {
      "cell_type": "markdown",
      "metadata": {
        "id": "zOVai9CUmvGp",
        "colab_type": "text"
      },
      "source": [
        "# foreach (keys %hash)\n",
        "\n",
        "- **keys(*hash*)** generates list of keys (random order)\n",
        "\n"
      ]
    },
    {
      "cell_type": "code",
      "metadata": {
        "id": "fklipOgqmvGq",
        "colab_type": "code",
        "colab": {}
      },
      "source": [
        "%%perl\n",
        "\n",
        "%cost = ( AAPL => 174.13, IBM => 139.03, MSFT => 112.44);\n",
        "\n",
        "foreach $name (keys %cost)\n",
        "{\n",
        "   if ($cost{$name} > 150)\n",
        "   {\n",
        "      print \"Sell $name\\n\"\n",
        "   }\n",
        "}"
      ],
      "execution_count": 0,
      "outputs": []
    },
    {
      "cell_type": "markdown",
      "metadata": {
        "id": "JNh08m0RmvGx",
        "colab_type": "text"
      },
      "source": [
        "# while ( ( k, v ) = each %hash)\n",
        "\n",
        "- **each(*hash*)** iterates through key, value pairs (random order)\n",
        "\n"
      ]
    },
    {
      "cell_type": "code",
      "metadata": {
        "id": "36CkMCRWmvGz",
        "colab_type": "code",
        "colab": {}
      },
      "source": [
        "%%perl\n",
        "\n",
        "%cost = ( AAPL => 174.13, IBM => 139.03, MSFT => 112.44);\n",
        "\n",
        "while (($k, $v) = each %cost)\n",
        "{\n",
        "   if ($v > 150)\n",
        "   {\n",
        "      print \"Sell $k\\n\"\n",
        "   }\n",
        "}"
      ],
      "execution_count": 0,
      "outputs": []
    },
    {
      "cell_type": "markdown",
      "metadata": {
        "id": "-4RZKDhKmvHA",
        "colab_type": "text"
      },
      "source": [
        "# Map Function\n",
        "\n",
        "- iterates over list\n",
        "- loop variable is $_\n",
        "- syntax can be tricky\n"
      ]
    },
    {
      "cell_type": "code",
      "metadata": {
        "id": "YFnbh7BwmvHC",
        "colab_type": "code",
        "colab": {}
      },
      "source": [
        "%%perl\n",
        "\n",
        "%cost = ( AAPL => 154.48, IBM => 146.78, MSFT => 74.26);\n",
        "\n",
        "map { print \"Sell $_\\n\" if ($cost{$_} > 150) } (keys %cost);"
      ],
      "execution_count": 0,
      "outputs": []
    },
    {
      "cell_type": "markdown",
      "metadata": {
        "id": "DDGPQn28mvHI",
        "colab_type": "text"
      },
      "source": [
        "# Common Syntax Errors <a class=\"anchor\" id=\"errors\"></a>\n",
        "\n",
        "- missing braces around block\n",
        "- missing prefix symbol before variable name\n",
        "- using one equal sign instead of two, meaning assignment instead of test\n",
        "- missing close quote"
      ]
    },
    {
      "cell_type": "code",
      "metadata": {
        "id": "ICpI78EamvHK",
        "colab_type": "code",
        "colab": {}
      },
      "source": [
        "%%perl\n",
        "\n",
        "# get a random number between 0 and 1\n",
        "$remaining = rand(1.0);\n",
        "\n",
        "if ($remaining > 0.5)\n",
        "   print(\"have remaining work to do\\n\");"
      ],
      "execution_count": 0,
      "outputs": []
    },
    {
      "cell_type": "code",
      "metadata": {
        "id": "rYbDCPb4mvHT",
        "colab_type": "code",
        "colab": {}
      },
      "source": [
        "%%perl\n",
        "\n",
        "@ary = (2, 3, 5, 7, 11, 13, 17, 19);\n",
        "\n",
        "ary[20] = 33;\n",
        "\n",
        "for ($i = 0; $i <= $#ary; $i++)\n",
        "{\n",
        "   print $ary[$i], \"\\n\";\n",
        "}"
      ],
      "execution_count": 0,
      "outputs": []
    },
    {
      "cell_type": "code",
      "metadata": {
        "id": "15esVRk6mvHh",
        "colab_type": "code",
        "colab": {}
      },
      "source": [
        "%%perl\n",
        "\n",
        "# use warnings;\n",
        "\n",
        "@ary = (2, 3, 5, 7, 11, 13, 17, 19);\n",
        "\n",
        "for ($i = 0; $i <= $#ary; $i++)\n",
        "{\n",
        "   if ($ary[$i] = 7)\n",
        "   {\n",
        "       print \"value is 7\\n\";\n",
        "   }\n",
        "   print $ary[$i], \"\\n\";\n",
        "}"
      ],
      "execution_count": 0,
      "outputs": []
    },
    {
      "cell_type": "markdown",
      "metadata": {
        "id": "HYcITu4imvHq",
        "colab_type": "text"
      },
      "source": [
        "# Errors and Warnings\n",
        "<img src=\"https://github.com/keithjtamu/perl/blob/master/image/ConfusedComputer.png?raw=1\" align=\"right\" />\n",
        "\n",
        "- Warning is “non-fatal”, can still keep going\n",
        "- Error can be at:\n",
        "  - Compile time, e.g., syntax errors\n",
        "  - Run time:\n",
        "    - Numeric, e.g., division by zero\n",
        "    - Reference type, e.g., hash vs. List\n",
        "    - Object method"
      ]
    },
    {
      "cell_type": "markdown",
      "metadata": {
        "id": "zXByldN2mvHs",
        "colab_type": "text"
      },
      "source": [
        "# Warnings\n",
        "\n",
        "- start perl with **-w** option on command line\n",
        "- **use warnings;** pragma\n",
        "\n",
        "Turns on extra warnings of common problems.  Compiler will complain but keep running the program.\n",
        "\n",
        "See <a href=\"https://github.com/keithjtamu/perl/blob/master/bounds.pl\">bounds.pl</a>."
      ]
    },
    {
      "cell_type": "code",
      "metadata": {
        "id": "mvY92SDMmvH4",
        "colab_type": "code",
        "colab": {}
      },
      "source": [
        "%%perl\n",
        "\n",
        "my @a = (1, 2);\n",
        "\n",
        "my $b = $a[0] + $a[1] + $a[2];\n",
        "\n",
        "print \"b = $b\\n\"; "
      ],
      "execution_count": 0,
      "outputs": []
    },
    {
      "cell_type": "markdown",
      "metadata": {
        "id": "_sc9JuTDmvIA",
        "colab_type": "text"
      },
      "source": [
        "# \"should be ==\"\n",
        "\n",
        "```\n",
        "print \"c is ten\\n\" if ($c = 10);\n",
        "```\n",
        "\n",
        "```\n",
        "$ ./twoeq.pl \n",
        "Found = in conditional, should be == at ./twoeq.pl line 8.\n",
        "```\n",
        "\n",
        "See <a href=\"https://github.com/keithjtamu/perl/blob/master/twoeq.pl\">twoeq.pl</a>."
      ]
    },
    {
      "cell_type": "code",
      "metadata": {
        "id": "l74_41eomvIP",
        "colab_type": "code",
        "colab": {}
      },
      "source": [
        "%%perl\n",
        "\n",
        "my $c = int(rand(20));\n",
        "\n",
        "print \"c is $c\\n\";\n",
        "print \"c is ten\\n\" if ($c = 10);\n",
        "print \"c is $c\\n\";\n"
      ],
      "execution_count": 0,
      "outputs": []
    },
    {
      "cell_type": "markdown",
      "metadata": {
        "id": "vCBb-teSmvIn",
        "colab_type": "text"
      },
      "source": [
        "# Syntax Errors\n",
        "\n",
        "```\n",
        "while val < 10\n",
        "```\n",
        "\n",
        "```\n",
        "$ perl synerr.pl \n",
        "syntax error at synerr.pl line 4, near \"while val \"\n",
        "syntax error at synerr.pl line 8, near \"}\"\n",
        "Execution of synerr.pl aborted due to compilation errors.\n",
        "```\n",
        "\n",
        "See <a href=\"https://github.com/keithjtamu/perl/blob/master/synerr.pl\">synerr.pl</a>."
      ]
    },
    {
      "cell_type": "markdown",
      "metadata": {
        "id": "d7Ooh5GOmvI0",
        "colab_type": "text"
      },
      "source": [
        "# Runaway Strings\n",
        "\n",
        "```\n",
        "$ ./closeq.pl \n",
        "Scalar found where operator expected at ./closeq.pl line 8, near \"print \"$a\"\n",
        "  (Might be a runaway multi-line \"\" string starting on line 3)\n",
        "        (Do you need to predeclare print?)\n",
        "Backslash found where operator expected at ./closeq.pl line 8, near \"$a\\\"\n",
        "        (Missing operator before \\?)\n",
        "String found where operator expected at ./closeq.pl line 8, at end of line\n",
        "        (Missing semicolon on previous line?)\n",
        "syntax error at ./closeq.pl line 8, near \"print \"$a\"\n",
        "Can't find string terminator '\"' anywhere before EOF at ./closeq.pl\n",
        "```\n",
        "\n",
        "See <a href=\"https://github.com/keithjtamu/perl/blob/master/closeq.pl\">closeq.pl</a>."
      ]
    },
    {
      "cell_type": "markdown",
      "metadata": {
        "id": "uenqsz3LmvJG",
        "colab_type": "text"
      },
      "source": [
        "# DIY Diagnostics\n",
        "\n",
        "- do your own checks before errors are generated:\n",
        "\n",
        "```\n",
        "die \"denominator zero \" if ($d == 0);\n",
        "$r = $n / $d;\n",
        "\n",
        "(-f $myfile)\n",
        "   or die \"no such file $myfile\";\n",
        "open(FD, \"<$myfile\");\n",
        "```\n",
        "\n",
        "- **die()** prints message to STDERR and exits program\n",
        "- **warn()** prints message to STDERR and continues running\n",
        "- see also <a href=\"https://perldoc.perl.org/Carp.html\">Carp</a> library"
      ]
    },
    {
      "cell_type": "markdown",
      "metadata": {
        "id": "pJnqrpyBmvJK",
        "colab_type": "text"
      },
      "source": [
        "# System Error String **$!**\n",
        "\n",
        "If a system call fails, look at **$!** variable\n",
        "\n",
        "```\n",
        "open FH, $myfile, \"r\" or\n",
        "    die \"open $myfile: $! \";\n",
        "```\n",
        "\n",
        "```\n",
        "$ perl nofile.pl \n",
        "open needfile: No such file or directory at nofile.pl line 4.\n",
        "```\n",
        "\n",
        "See <a href=\"https://github.com/keithjtamu/perl/blob/master/nofile.pl\">nofile.pl</a>."
      ]
    },
    {
      "cell_type": "markdown",
      "metadata": {
        "id": "4y1Am830mvJW",
        "colab_type": "text"
      },
      "source": [
        "# Variable Scope\n",
        "\n",
        "- using the “**my**” declaration makes a variable local to the statement block or file.\n",
        "- don’t use “**local**” declaration unless you understand it—the “**my**” declaration is almost always what you want.\n",
        "- the “**our**” declaration is used for declaring global variables within packages (modules). "
      ]
    },
    {
      "cell_type": "markdown",
      "metadata": {
        "id": "pMSQZDkCmvJa",
        "colab_type": "text"
      },
      "source": [
        "# Examples of Local Variables \n",
        "\n",
        "- put multiple declared variables in list, using parentheses\n",
        "\n",
        "```\n",
        "my $a;\n",
        "my @f;\n",
        "my $x = \"initial value\";\n",
        "my ($i, $j, $k);\n",
        "foreach my $item (@ilist) {\n",
        "    $sum += $item;\n",
        "}\n",
        "```\n"
      ]
    },
    {
      "cell_type": "markdown",
      "metadata": {
        "id": "tMimYEapmvJd",
        "colab_type": "text"
      },
      "source": [
        "# Example of Scope\n",
        "\n",
        "```\n",
        "my @numlist = (3, 4, 5);\n",
        "\n",
        "foreach my $item (@numlist) {\n",
        "    print \"item = $item\\n\";\n",
        "}\n",
        "print \"item = $item\\n\";\n",
        "```\n",
        "\n",
        "See <a href=\"https://github.com/keithjtamu/perl/blob/master/scopeex.pl\">scopeex.pl</a>."
      ]
    },
    {
      "cell_type": "markdown",
      "metadata": {
        "id": "5cLGnLrgmvJq",
        "colab_type": "text"
      },
      "source": [
        "# Strict Pragma\n",
        "\n",
        "Put “**use strict**” pragma at top to require use of “**my**” declarations.\n",
        "\n",
        "```\n",
        "use strict;\n",
        "$x = 15;\n",
        "my $y = 19;\n",
        "print ”y = $y\\n\"; \n",
        "```\n"
      ]
    },
    {
      "cell_type": "code",
      "metadata": {
        "id": "PrFzZRWbmvJt",
        "colab_type": "code",
        "colab": {}
      },
      "source": [
        "%%perl\n",
        "\n",
        "use strict;\n",
        "$x = 15;\n",
        "my $y = 19;\n",
        "print \"y = $y\\n\"; \n"
      ],
      "execution_count": 0,
      "outputs": []
    },
    {
      "cell_type": "markdown",
      "metadata": {
        "id": "bjHDaBilmvJ9",
        "colab_type": "text"
      },
      "source": [
        "# File Handles <a class=\"anchor\" id=\"IO\"></a>\n",
        "\n",
        "- STDIN, STDOUT, and STDERR correspond to the stdin, stdout, and stderr of C/C++. \n",
        "- A simple Perl filehandle is a name by itself, typically all caps.\n",
        "- Filehandles can be scalar variables, too.\n",
        "- Objects from **IO::File** and similar library modules have advantages."
      ]
    },
    {
      "cell_type": "markdown",
      "metadata": {
        "id": "gQje71-amvKA",
        "colab_type": "text"
      },
      "source": [
        "# Printing\n",
        "\n",
        "- **print()** prints a list of strings\n",
        "- **printf()** formats output as in C/C++/Java\n",
        "- **syswrite()** unbuffered, low-level (useful for binary data)\n",
        "\n",
        "# When Using Filehandles\n",
        "- **print *FH* *LIST* **\n",
        "- **printf *FH* *format-string*, *arg1*, ...**\n",
        "- **syswrite *FH*, *data*, *length* **\n",
        "\n",
        "(note the comma only used in **syswrite()** after filehandle)"
      ]
    },
    {
      "cell_type": "markdown",
      "metadata": {
        "id": "tKAXWvSvmvKD",
        "colab_type": "text"
      },
      "source": [
        "# Print Examples\n",
        "\n",
        "```\n",
        "print \"Hello, world!\\n\";\n",
        "print STDOUT \"Hello, world!\\n\"; # same\n",
        "print STDERR \"File not found:\", $fname, \"\\n\";\n",
        "printf MYRPT \"%d items processed\\n\", $count; \n",
        "printf MYRPT (\"%d items processed\\n\", $count);      # same\n",
        "```"
      ]
    },
    {
      "cell_type": "markdown",
      "metadata": {
        "id": "qnnHDGrXmvKI",
        "colab_type": "text"
      },
      "source": [
        "# Reading Input\n",
        "\n",
        "- **< >**\n",
        "  - input from STDIN\n",
        "  - buffered input\n",
        "- **< *FH* >**\n",
        "  - input from *FH*\n",
        "  - buffered input\n",
        "- **sysread(*FH*, *data*, *count*)**\n",
        "  - low-level read from *FH*\n",
        "  - unbuffered"
      ]
    },
    {
      "cell_type": "markdown",
      "metadata": {
        "id": "jOJpsML5mvKL",
        "colab_type": "text"
      },
      "source": [
        "# Opening a File\n",
        "\n",
        "- the open function opens a file for reading, writing, appending, or more\n",
        "- can specify a bareword file handle name or a scalar variable\n",
        "\n",
        "```\n",
        "open(MYINFO, \"<info.dat\") or\n",
        "    die(\"open info.dat: $! \");\n",
        "open $fh, \">logfile\" or die $!;\n",
        "```\n",
        "\n",
        "# Choosing a Mode\n",
        "\n",
        "| mode  | normal | bi-directional |\n",
        "| ---:  | :----: | :-----------:  |\n",
        "| read  |  **<** |  **+<**        |\n",
        "| write |  **>** |  **+>**        |\n",
        "| append |  **>>** |  **+>>**        |\n",
        "\n",
        "```\n",
        "open(MYINFO, ”+<info.dat\") or\n",
        "    die(\"open info.dat: $! \");\n",
        "open $fh, $fname, \">>\" or die $!;\n",
        "```"
      ]
    },
    {
      "cell_type": "markdown",
      "metadata": {
        "id": "dO_HsyZKmvLJ",
        "colab_type": "text"
      },
      "source": [
        "# Putting it Together\n",
        "\n",
        "```\n",
        "open RAW, $rfile, \"<\"; \n",
        "open $ofh, \">>results\";\n",
        "while ($line = <RAW>) {\n",
        "    @useful = myprocess($line);\n",
        "    printf $ofh \"%d,%6.2f,%s\\n\", @useful;\n",
        "}\n",
        "```"
      ]
    },
    {
      "cell_type": "markdown",
      "metadata": {
        "id": "WhZptyFgmvLM",
        "colab_type": "text"
      },
      "source": [
        "# Reading From Commands\n",
        "\n",
        "- put pipe \"**|**\" at beginning to print to (as filter)\n",
        "- put pipe \"**|**\" at end to read output from (as source)\n",
        "\n",
        "```\n",
        "# run the ps command and pipe the output to PS\n",
        "open(PS, \"/bin/ps -auxww|\") or die $!;\n",
        "\n",
        "# read all of the output (removing processes running by root or apache)\n",
        "@lines = grep !/^(root|apache)/, <PS>;\n",
        "\n",
        "# print first ten lines\n",
        "print @lines[0..10];\n",
        "\n",
        "```"
      ]
    },
    {
      "cell_type": "code",
      "metadata": {
        "id": "254rJmP-mvLO",
        "colab_type": "code",
        "colab": {}
      },
      "source": [
        "%%perl\n",
        "\n",
        "open(PS, \"/bin/ps -auxww|\") or die $!;\n",
        "\n",
        "@lines = grep !/^(root|apache)/, <PS>;\n",
        "\n",
        "print @lines[0..10];"
      ],
      "execution_count": 0,
      "outputs": []
    },
    {
      "cell_type": "markdown",
      "metadata": {
        "id": "l7eY-YMUmvLW",
        "colab_type": "text"
      },
      "source": [
        "# File Encodings\n",
        "\n",
        "Specify a particular character encoding for reading and writing\n",
        "\n",
        "```\n",
        "my $handle   = undef;\n",
        "my $filename = \"/some/path/to/a/textfile/goes/here\";\n",
        "my $encoding = \":encoding(UTF-8)\";\n",
        "\n",
        "open($handle, \">> $encoding\", $filename)\n",
        "    || die \"$0: can't open $filename for appending: $!\";\n",
        "print $handle @lines;\n",
        "```"
      ]
    },
    {
      "cell_type": "markdown",
      "metadata": {
        "id": "mL1J5hKtmvLa",
        "colab_type": "text"
      },
      "source": [
        "# Working With Binary Files\n",
        "\n",
        "- Use [**sysopen()**](http://perldoc.perl.org/functions/sysopen.html), [**sysread()**](http://perldoc.perl.org/functions/sysopen.html), and [**syswrite()**](http://perldoc.perl.org/functions/sysopen.html)\n",
        "- Do not mix with [**<>**](http://perldoc.perl.org/perlop.html#I%2fO-Operators), [**print()**](http://perldoc.perl.org/functions/print.html), [**printf()**](http://perldoc.perl.org/functions/printf.html), and [**say()**](http://perldoc.perl.org/functions/say.html) which use buffered I/O\n",
        "- See the [Perl pack() tutorial](https://perldoc.perl.org/perlpacktut.html#Packing-and-Unpacking-C-Structures) to learn how to read fixed-length records properly aligned in memory to the correct data types"
      ]
    },
    {
      "cell_type": "markdown",
      "metadata": {
        "id": "JD3HF-lOmvLd",
        "colab_type": "text"
      },
      "source": [
        "# Regular Expressions <a class=\"anchor\" id=\"regex\"></a>\n",
        "\n",
        "- Regular expressions are patterns designed to concisely match a set of strings which follow the rules of the given pattern\n",
        "- Regular expressions have a long history in Unix (**ed**, **grep**, **vi**, **awk**)\n",
        "- Perl extends the traditional regular expressions, adding new rules"
      ]
    },
    {
      "cell_type": "markdown",
      "metadata": {
        "id": "7Iy5wMjbmvLf",
        "colab_type": "text"
      },
      "source": [
        "# Quick Examples\n",
        "\n",
        "```\n",
        "$name =~ /Mich/;     # Michael, Michelle, Michigan, ...\n",
        "\n",
        "$shell =~ /^[abck]sh/;     # csh, ksh (not bash)\n",
        "\n",
        "$fname !~ /.*\\.[ch]$/;     # not a C source\n",
        "\n",
        "$command =~ s?^?/usr/bin?;    # prepend dir\n",
        "\n",
        "$dosfile =~ tr/A-Z/a-z/;      # change case\n",
        "```"
      ]
    },
    {
      "cell_type": "markdown",
      "metadata": {
        "id": "ddwXFQgWmvLh",
        "colab_type": "text"
      },
      "source": [
        "# Main Regexp Operators\n",
        "\n",
        "|**Operator** | **Use** | **Return** |\n",
        "| ------------- |:-------------:| -----:|\n",
        "| qr/_pattern_/ | precompile | regexp |\n",
        "| /_pattern_/    | match      | boolean |\n",
        "| m{_pattern_}    | match      | boolean |\n",
        "| s/_pattern_/_replacement_/ | substitute  | count of replacements |\n",
        "| s{_pattern_}{_replacement_} | substitute  | count of replacements |\n",
        "| tr/_set1_/_set2_/ | transliterate  | count of replacements |\n",
        "| y?_set1_?_set2_? | transliterate  | count of replacements |\n"
      ]
    },
    {
      "cell_type": "markdown",
      "metadata": {
        "id": "cUtF0gjVmvLl",
        "colab_type": "text"
      },
      "source": [
        "# [**split()**](https://perldoc.perl.org/functions/split.html) and [**grep()**](https://perldoc.perl.org/functions/grep.html)\n",
        "\n",
        "- **split()** function divides a string using regexp for the separator pattern\n",
        "\n",
        "```\n",
        "split(/[:,]/, 'a:fg:x:::2,2:3 KB');\n",
        "```\n",
        "\n",
        "- **grep()** function finds matches in a list\n",
        "\n",
        "```\n",
        "grep /^A.*s$/, qw(Adams Aaron Avons arts);\n",
        "```"
      ]
    },
    {
      "cell_type": "code",
      "metadata": {
        "scrolled": true,
        "id": "_gAeCdUXmvLn",
        "colab_type": "code",
        "colab": {}
      },
      "source": [
        "%%perl\n",
        "\n",
        "$input = 'Adams:Aaron:Avons:arts';\n",
        "@full = split(/:/, $input);\n",
        "print \"full = (@full)\\n\";\n",
        "\n",
        "@picks = grep /^A.*s$/, @full;\n",
        "print \"picks = (@picks)\\n\";"
      ],
      "execution_count": 0,
      "outputs": []
    },
    {
      "cell_type": "markdown",
      "metadata": {
        "id": "x-1oh0IgmvLt",
        "colab_type": "text"
      },
      "source": [
        "# Metacharacters\n",
        "\n",
        "| Character | Use |\n",
        "|------|-----|\n",
        "| \\\\ | Quote the next metacharacter |\n",
        "| ^  | Match start of line |\n",
        "| .  | Match any one character |\n",
        "| $  | Match end of line |\n",
        "| &#124; | Alternation |\n",
        "| () | Grouping |\n",
        "| \\[ \\] | Character class |\n",
        "\n",
        "See [Regexp tutorial](http://perldoc.perl.org/perlre.html)"
      ]
    },
    {
      "cell_type": "markdown",
      "metadata": {
        "id": "gfuQ1bojmvLu",
        "colab_type": "text"
      },
      "source": [
        "# Quantifiers\n",
        "\n",
        "| Character | Use |\n",
        "|------|-----|\n",
        "| &#42;| 0 or more |\n",
        "| +  | 1 or more |\n",
        "| ?  | 0 or 1 |\n",
        "| {n}  | exactly _n_ |\n",
        "| {n,} | _n_ or more |\n",
        "| {n,m} | at least _n_ but no more than _m_ |\n",
        "\n",
        "See [Regexp tutorial](http://perldoc.perl.org/perlre.html)"
      ]
    },
    {
      "cell_type": "markdown",
      "metadata": {
        "id": "hUb0wYtemvLw",
        "colab_type": "text"
      },
      "source": [
        "# Escape Sequences\n",
        "\n",
        "| Character | Use |\n",
        "|------|-----|\n",
        "| \\\\t \\\\n \\\\033 | C-style control characters |\n",
        "| \\\\l  | lowercase next character |\n",
        "| \\\\u  | uppercase next character |\n",
        "| \\\\L  | lowercase until **\\\\E** |\n",
        "| \\\\U  | uppercase until **\\\\E** |\n",
        "| \\\\E  | end case modification |\n",
        "| \\\\Q  | disable metacharacters until **\\\\E** |\n",
        "\n",
        "See [Regexp tutorial](http://perldoc.perl.org/perlre.html)"
      ]
    },
    {
      "cell_type": "markdown",
      "metadata": {
        "id": "_ShvMWuYmvLy",
        "colab_type": "text"
      },
      "source": [
        "# Character Classes\n",
        "\n",
        "| Character | Use |\n",
        "|------|-----|\n",
        "| \\\\w | word character: ** \\[a-zA-Z0-9\\_\\] ** |\n",
        "| \\\\W  | non-word character: ** \\[^a-zA-Z0-9\\_\\] ** |\n",
        "| \\\\s  | space character (space, tab) |\n",
        "| \\\\S  | non-space |\n",
        "| \\\\d  | digit character: ** \\[0-9\\] ** |\n",
        "| \\\\D  | non-digit character: ** \\[^0-9\\] ** |\n",
        "| \\\\1 \\\\2 \\\\3  | back refrences to groupings with parens |\n",
        "\n",
        "See [Regexp tutorial](http://perldoc.perl.org/perlre.html)"
      ]
    },
    {
      "cell_type": "markdown",
      "metadata": {
        "id": "YynVSxmqmvL0",
        "colab_type": "text"
      },
      "source": [
        "# Capture Buffers\n",
        "\n",
        "- ** \\( \\) ** grouping is saved in buffers\n",
        "  ** \\\\1 **, ** \\\\2 **, ... or \\(better\\) ** \\$1 **, ** \\$2 **, ...\n",
        "    \n",
        "```\n",
        "$line =~ /^(\\w+) (\\d+)\\s*(\\w+)?$/;\n",
        "$name = $1; $count = $2; $optlabel = $3;\n",
        "\n",
        "$fullname =~ s/^(\\w+), (\\w+)$/$2 $1/?;\n",
        "\n",
        "($fn, $ln) = ($N =~ /^(\\w+) \\w+ (\\w+)$/);\n",
        "```"
      ]
    },
    {
      "cell_type": "markdown",
      "metadata": {
        "id": "AGtt5ruzmvL1",
        "colab_type": "text"
      },
      "source": [
        "# Process Counting\n",
        "\n",
        "```\n",
        "use IO::File;     # import module\n",
        "\n",
        "# open passwd file for reading\n",
        "my $pwtbl = new IO::File \"</etc/passwd\";\n",
        "\n",
        "# run ps command, open output as a pipe for reading\n",
        "open my $pscom, \"ps hauxww |\";\n",
        "\n",
        "# get real name from fifth column, indexed to login in first column\n",
        "my %realname = ();\n",
        "while (<$pwtbl>) {\n",
        "    @fields = split(/:/);\n",
        "    next unless ($fields[2] > 1000);\n",
        "    $realname{$fields[0]} = $fields[4];\n",
        "}\n",
        "\n",
        "# scan processes, counting by login\n",
        "my %numprocs = ();\n",
        "while (<$pscom>) {\n",
        "   my ($login) = (m/^(\\w+)/);\n",
        "   next unless (exists $realname{$login});\n",
        "   $numprocs{$login} = 0\n",
        "        unless (exists $numprocs{$login});\n",
        "   $numprocs{$login}++;\n",
        "}\n",
        "\n",
        "# print a summary of totals by user\n",
        "foreach my $login (sort keys %numprocs) {\n",
        "    printf(\"%4d procs for %9s (%s)\\n\",\n",
        "        $numprocs{$login}, $login,\n",
        "        $realname{$login});\n",
        "}\n",
        "```"
      ]
    },
    {
      "cell_type": "code",
      "metadata": {
        "id": "u4YDnGPNmvL4",
        "colab_type": "code",
        "colab": {}
      },
      "source": [
        "%%perl\n",
        "\n",
        "use IO::File;     # import module\n",
        "\n",
        "# open passwd file for reading\n",
        "my $pwtbl = new IO::File \"</etc/passwd\";\n",
        "\n",
        "# run ps command, open output as a pipe for reading\n",
        "open my $pscom, \"ps hauxww |\";\n",
        "\n",
        "# get real name from fifth column, indexed to login in first column\n",
        "my %realname = ();\n",
        "while (<$pwtbl>) {\n",
        "    @fields = split(/:/);\n",
        "    next unless ($fields[2] > 1000);\n",
        "    $realname{$fields[0]} = $fields[4];\n",
        "}\n",
        "\n",
        "# scan processes, counting by login\n",
        "my %numprocs = ();\n",
        "while (<$pscom>) {\n",
        "   my ($login) = (m/^(\\w+)/);\n",
        "   next unless (exists $realname{$login});\n",
        "   $numprocs{$login} = 0\n",
        "        unless (exists $numprocs{$login});\n",
        "   $numprocs{$login}++;\n",
        "}\n",
        "\n",
        "# print a summary of totals by user\n",
        "foreach my $login (sort keys %numprocs) {\n",
        "    printf(\"%4d procs for %9s (%s)\\n\",\n",
        "        $numprocs{$login}, $login,\n",
        "        $realname{$login});\n",
        "}\n"
      ],
      "execution_count": 0,
      "outputs": []
    },
    {
      "cell_type": "markdown",
      "metadata": {
        "id": "wlFghib_mvL_",
        "colab_type": "text"
      },
      "source": [
        "# References <a class=\"anchor\" id=\"references\"></a>\n",
        "\n",
        "<img src=\"https://github.com/keithjtamu/perl/blob/master/image/pointer-dog.gif?raw=1\" />"
      ]
    },
    {
      "cell_type": "markdown",
      "metadata": {
        "id": "ME4TVRiQmvMB",
        "colab_type": "text"
      },
      "source": [
        "# References\n",
        "\n",
        "Perl references are scalars which contain a pointer to:\n",
        "    - another scalar\n",
        "    - an array\n",
        "    - a hash table\n",
        "    - a subroutine\n",
        "    - typeglobs"
      ]
    },
    {
      "cell_type": "markdown",
      "metadata": {
        "id": "xW2KsjzFmvMD",
        "colab_type": "text"
      },
      "source": [
        "# References to Variables\n",
        "\n",
        "```\n",
        "$sc_ref = \\$number;   # scalar\n",
        "\n",
        "$ar_ref = \\@namelist; # array\n",
        "\n",
        "$hs_ref = \\%lookup;   # hash\n",
        "\n",
        "$sb_ref = \\&mysub;    # subroutine\n",
        "```"
      ]
    },
    {
      "cell_type": "markdown",
      "metadata": {
        "id": "yBsSjNyemvMG",
        "colab_type": "text"
      },
      "source": [
        "# References to Anonymous\n",
        "\n",
        "```\n",
        "$ar_ref = [ 4, 3, 3, 7 ];       # array\n",
        "\n",
        "$hs_ref = { m => 6, n => 9 };   # hash\n",
        "\n",
        "$sb_ref = sub { return(shift(@_) + 1) };   # subroutine\n",
        "```"
      ]
    },
    {
      "cell_type": "markdown",
      "metadata": {
        "id": "EWS-e5BfmvMI",
        "colab_type": "text"
      },
      "source": [
        "# Dereferencing\n",
        "\n",
        "Dereference by:\n",
        "    \n",
        "1. using type symbol (** \\$ **, ** @ **, ** % **, ** & **) then the reference variable ( in curly braces ** { } ** if necessary )\n",
        "2. access an element by inserting arrow ** -> ** between reference variable and the element specifier: square brackets ** \\[ \\] ** for arrays, curly braces ** { } ** for hashes, and parens ** \\( \\) ** around subroutine arguments after arrow"
      ]
    },
    {
      "cell_type": "markdown",
      "metadata": {
        "id": "meg2QZEhmvMP",
        "colab_type": "text"
      },
      "source": [
        "# Bracing References\n",
        "\n",
        "```\n",
        "$sc_ref = \\$number;   # scalar\n",
        "\n",
        "printf(\"%d\\n\", ${$sc_ref});\n",
        "printf(\"%d\\n\", $number);\n",
        "\n",
        "$ar_ref = \\@namelist; # array\n",
        "\n",
        "push(@{$ar_ref}, \"Henry\");\n",
        "push(@namelist, \"Henry\");\n",
        "\n",
        "$hs_ref = \\%lookup;   # hash\n",
        "\n",
        "@logins = keys %{$hs_ref};\n",
        "@logins = keys %lookup;\n",
        "\n",
        "$sb_ref = \\&mysub;    # subroutine\n",
        "\n",
        "$rc = &{$sb_ref}($arg1, $arg2);\n",
        "$rc = mysub($arg1, $arg2);\n",
        "```"
      ]
    },
    {
      "cell_type": "markdown",
      "metadata": {
        "id": "nVr291Q8mvMR",
        "colab_type": "text"
      },
      "source": [
        "# Leave Off the Braces\n",
        "\n",
        "You don't always have to surround the reference variable with braces, as long as doing so doesn't create ambiguity.\n",
        "\n",
        "```\n",
        "@{$ar_ref}    @$ar_ref\n",
        "%{$hs_ref}    %$hs_ref\n",
        "```"
      ]
    },
    {
      "cell_type": "markdown",
      "metadata": {
        "id": "hz5DamFQmvMT",
        "colab_type": "text"
      },
      "source": [
        "# Subelements\n",
        "\n",
        "- You can use braces:\n",
        "\n",
        "```\n",
        "$ar_ref = \\@namelist; # array\n",
        "\n",
        "$fourth = ${$ar_ref}[3];\n",
        "$fourth = $namelist[3];\n",
        "\n",
        "foreach $i (0..$#{$ar_ref}) …\n",
        "foreach $i (0..$#namelist) …\n",
        "     \n",
        "$hs_ref = \\%lookup; # hash\n",
        "\n",
        "$myid = ${$hs_ref}{$login};\n",
        "$myid = $lookup{$login};\n",
        "```\n",
        "\n",
        "- Or you can use arrows:\n",
        "\n",
        "```\n",
        "$ar_ref = \\@namelist; #array\n",
        "\n",
        "$fourth = $ar_ref->[3];\n",
        "$fourth = $namelist[3];\n",
        "\n",
        "\n",
        "$hs_ref = \\%lookup; # hash\n",
        "\n",
        "$myid = ${$hs_ref}{$login};\n",
        "$myid = $hs_ref->{$login};\n",
        "$myid = $lookup{$login};\n",
        "\n",
        "$wrong = $hs_ref{$login};\n",
        "\n",
        "$sb_ref = \\&mysub; # subroutine\n",
        "\n",
        "$rc = ${$sb_ref}($arg1, $arg2);\n",
        "$rc = $sb_ref->($arg1, $arg2);\n",
        "$rc = mysub($arg1, $arg2);\n",
        "\n",
        "$wrong = $sb_ref($arg1, $arg2); \n",
        "$wrong = sb_ref($arg1, $arg2);\n",
        "```"
      ]
    },
    {
      "cell_type": "markdown",
      "metadata": {
        "id": "Kn_cIKK5mvMU",
        "colab_type": "text"
      },
      "source": [
        "# Multi-Dimensional Arrays\n",
        "\n",
        "For 2-dimensional arrays, create a list of references to lists:\n",
        "\n",
        "```\n",
        "@table =\n",
        "(\n",
        "   [  2, -1,  3 ],\n",
        "   [  0, 10, -9 ],\n",
        "   [ 18,  3,  4 ],\n",
        ");\n",
        "\n",
        "# These are all the same\n",
        "$x = ${$table[1]}[2];\n",
        "$x = $table[1]->[2];\n",
        "$x = $table[1][2];\n",
        "```\n",
        "\n",
        "See [Perl data structures tutorial](https://perldoc.perl.org/perldsc.html)"
      ]
    },
    {
      "cell_type": "markdown",
      "metadata": {
        "id": "1K_IScivmvMV",
        "colab_type": "text"
      },
      "source": [
        "# Get More Info at Course Page\n",
        "\n",
        "see <a href=\"https://hprc.tamu.edu/training/intro_perl.html\">https://hprc.tamu.edu/training/intro_perl.html</a>\n",
        "\n",
        "- Intermediate Scripting slides cover some Perl and bash\n",
        "- Extended Perl Class has slides from past years in which short course was taught over several days"
      ]
    },
    {
      "cell_type": "markdown",
      "metadata": {
        "id": "TFeWTTV3mvMX",
        "colab_type": "text"
      },
      "source": [
        "[back to top](#TOC)"
      ]
    }
  ]
}
