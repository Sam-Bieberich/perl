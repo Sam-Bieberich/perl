{
 "cells": [
  {
   "cell_type": "markdown",
   "metadata": {},
   "source": [
    "# Introduction to Programming Perl\n",
    "\n",
    "<img src=\"image/perl_camel.jpg\" align=\"right\" height=\"80\" width=\"80\" />\n",
    "\n",
    "Texas A&amp;M High Performance Research Computing (TAMU HPRC)\n",
    "<br />\n",
    "Keith Jackson\n",
    "<br />\n",
    "<a href=\"https://hprc.tamu.edu/training/intro_perl.html\">course page</a>\n",
    "<br />\n",
    "<a href=\"http://perldoc.perl.org\">perldoc.perl.org</a>\n",
    "\n",
    "\n",
    "\n"
   ]
  },
  {
   "cell_type": "markdown",
   "metadata": {},
   "source": [
    "# HPRC Info\n",
    "\n",
    "| Item | Value |\n",
    "| -------------: | :------------- |\n",
    "|  **Homepage** | <a href=\"https://hprc.tamu.edu/\">hprc.tamu.edu</a>  |\n",
    "|  **E-mail** | <a href=\"mailto:help@hprc.tamu.edu\">help@hprc.tamu.edu</a> |\n",
    "| **Phone** | 979-845-0219 |\n",
    "| **Address** | <a href=\"http://aggiemap.tamu.edu?bldg=0425\">Henderson Hall, 222 Jones St</a> |"
   ]
  },
  {
   "cell_type": "markdown",
   "metadata": {},
   "source": [
    "# Agenda <a class=\"anchor\" id=\"TOC\"></a>\n",
    "\n",
    "<img src=\"image/agenda.jpg\" align=\"right\" />\n",
    "\n",
    "- [executing your program](#executing)\n",
    "- [finding documentation](#documentation)\n",
    "- [statement syntax](#syntax)\n",
    "- [variables](#variables), [constants](#constants), and [operators](#operators)\n",
    "- [control flow](#control)\n",
    "- [error messages](#errors)\n",
    "- [I/O](#IO)\n",
    "- [regular expressions](#regex)\n",
    "- [references](#references)"
   ]
  },
  {
   "cell_type": "markdown",
   "metadata": {},
   "source": [
    "# How to Run a Perl Program  <a class=\"anchor\" id=\"executing\"></a>\n",
    "\n",
    "\n",
    "Program files usually end in \"**.pl**\" suffix.  Run it from command line with **perl** command:\n",
    "\n",
    "```bash\n",
    "   perl sum.pl\n",
    "```\n",
    "\n",
    "See <a href=\"../../edit/Introduction_to_Perl/sum.pl\">sum.pl</a>."
   ]
  },
  {
   "cell_type": "code",
   "execution_count": 4,
   "metadata": {},
   "outputs": [
    {
     "name": "stdout",
     "output_type": "stream",
     "text": [
      "The sum of 3 and 9 is 12\n"
     ]
    }
   ],
   "source": [
    "%%bash\n",
    "\n",
    "perl sum.pl"
   ]
  },
  {
   "cell_type": "markdown",
   "metadata": {},
   "source": [
    "# Open Terminal\n",
    "\n",
    "<img src = \"image/Jupyter_Terminal.png\" align=\"left\" />"
   ]
  },
  {
   "cell_type": "markdown",
   "metadata": {},
   "source": [
    "# Commands in Shell\n",
    "\n",
    "```\n",
    "pwd\n",
    "cd Introduction_to_Perl\n",
    "ls\n",
    "cat sum.pl\n",
    "perl sum.pl\n",
    "```"
   ]
  },
  {
   "cell_type": "markdown",
   "metadata": {},
   "source": [
    "# Making Script Executable\n",
    "\n",
    "In order to run a Perl script or other shell script as a program, we need the **<tt>#!</tt>** (_sha-bang_) on the first line, followed by the interpreter.  You can put the full path to **perl** or **<tt>/bin/env perl</tt>**\n",
    "\n",
    "```\n",
    "./sum.pl\n",
    "ls -l sum.pl\n",
    "chmod +x sum.pl\n",
    "ls -l sum.pl\n",
    "./sum.pl\n",
    "```"
   ]
  },
  {
   "cell_type": "markdown",
   "metadata": {},
   "source": [
    "# Run Perl with **-e**\n",
    "\n",
    "You can run short programs with **-e** option:\n",
    "\n",
    "```bash\n",
    "   perl -e 'printf(\"%.15f\\n\", 2*atan2(1,0))'\n",
    "```\n"
   ]
  },
  {
   "cell_type": "code",
   "execution_count": 6,
   "metadata": {},
   "outputs": [
    {
     "name": "stdout",
     "output_type": "stream",
     "text": [
      "3.141592653589793\n"
     ]
    }
   ],
   "source": [
    "%%bash\n",
    "\n",
    "perl -e 'printf(\"%.15f\\n\", 2*atan2(1,0))'"
   ]
  },
  {
   "cell_type": "markdown",
   "metadata": {
    "collapsed": true
   },
   "source": [
    "# Testing With **<tt>eval perl</tt>**\n",
    "\n",
    "```bash\n",
    "eval perl\n",
    "@a = ('red', 'green', 'blue');\n",
    "print @a, \"\\n\";\n",
    "print @a . \"\\n\";\n",
    "print \"@a\\n\";\n",
    "```"
   ]
  },
  {
   "cell_type": "code",
   "execution_count": 7,
   "metadata": {},
   "outputs": [
    {
     "name": "stdout",
     "output_type": "stream",
     "text": [
      "redgreenblue\n",
      "3\n",
      "red green blue\n"
     ]
    }
   ],
   "source": [
    "%%bash\n",
    "\n",
    "eval perl\n",
    "@a = ('red', 'green', 'blue');\n",
    "print @a, \"\\n\";\n",
    "print @a . \"\\n\";\n",
    "print \"@a\\n\";\n"
   ]
  },
  {
   "cell_type": "markdown",
   "metadata": {
    "collapsed": true
   },
   "source": [
    "# REPL Perl Shells\n",
    "\n",
    "**REPL** = Read-Eval-Print-Loop\n",
    "\n",
    "- **perlconsole**\n",
    "  - installed on ada cluster **/scratch/training/Perl/bin/perlconsole**\n",
    "  - available from [CPAN](http://search.cpan.org/~sukria/perlconsole-0.4/perlconsole)\n",
    "- **perli**\n",
    "  - portable\n",
    "  - available from [github](http://search.cpan.org/~sukria/perlconsole-0.4/perlconsole\")\n",
    "- **ips**\n",
    "  - requires rlwrap\n",
    "  - three lines of code (from [comment](https://stackoverflow.com/a/22840242) )\n",
    "  \n",
    "```bash\n",
    "#!/bin/sh\n",
    "echo 'This is Interactive Perl shell'\n",
    "/bin/rlwrap -A -pgreen -S\"perl> \" /usr/bin/perl -wnE'say eval()//$@'\n",
    "```\n"
   ]
  },
  {
   "cell_type": "markdown",
   "metadata": {},
   "source": [
    "# Documentation <a class=\"anchor\" id=\"documentation\"></a>\n",
    "\n",
    "1. Unix man pages\n",
    "```bash\n",
    "man perl\n",
    "man perlop\n",
    "man perlfunc\n",
    "perldoc -f sort\n",
    "```\n",
    "2. Websites, such as http://perldoc.perl.org\n",
    "\n",
    "   (get specific man pages, like <b>perlop</b> at http://perldoc.perl.org/perlop.html)"
   ]
  },
  {
   "cell_type": "code",
   "execution_count": null,
   "metadata": {},
   "outputs": [],
   "source": [
    "%%bash\n",
    "\n",
    "man perlop"
   ]
  },
  {
   "cell_type": "markdown",
   "metadata": {},
   "source": [
    "# Perl Statement Syntax <a class=\"anchor\" id=\"syntax\"></a>\n",
    "\n",
    "- statements separated by semicolons: \";\"\n",
    "- statement blocks surrounded by curly braces: \"{ }\"\n",
    "- comments preceded by pound sign (hash) : \"#\"\n",
    "\n"
   ]
  },
  {
   "cell_type": "code",
   "execution_count": null,
   "metadata": {},
   "outputs": [],
   "source": [
    "%%perl\n",
    "\n",
    "# set the top value of our loop\n",
    "$max = 5;\n",
    "\n",
    "$i = 1;    # initialize i\n",
    "while ($i <= $max)\n",
    "{\n",
    "   $a[$i] = $i ** 2 + 1;\n",
    "   printf(\"%3d %8.2f\\n\", $i, $a[$i]);\n",
    "   $i++;\n",
    "}"
   ]
  },
  {
   "cell_type": "markdown",
   "metadata": {},
   "source": [
    "# Variable Names <a class=\"anchor\" id=\"variables\"></a>\n",
    "\n",
    "Names in Perl:\n",
    "  - start with a letter\n",
    "  - contain letter, numbers, and underscores \"\\_\"\n",
    "  - case sensitive\n",
    "\n",
    "Major types:\n",
    "  - \\$ scalars (single value)\n",
    "  - @ lists\n",
    "  - % hash tables"
   ]
  },
  {
   "cell_type": "markdown",
   "metadata": {},
   "source": [
    "# Scalars\n",
    "\n",
    "- Start with dollar sign \"\\$\"\n",
    "- Types include:\n",
    "  - integer\n",
    "  - floating point\n",
    "  - string\n",
    "  - binary data\n",
    "  - reference (like a pointer)\n",
    "- Perl is not strongly typed  \n"
   ]
  },
  {
   "cell_type": "code",
   "execution_count": 8,
   "metadata": {},
   "outputs": [
    {
     "name": "stdout",
     "output_type": "stream",
     "text": [
      "a is 2.75\n",
      "color is yellow\n"
     ]
    }
   ],
   "source": [
    "%%perl\n",
    "\n",
    "$a = 2.75;           # scalar, floating point\n",
    "\n",
    "$color = 'yellow';   # scalar, string\n",
    "\n",
    "print \"a is $a\\n\";\n",
    "print \"color is $color\\n\";"
   ]
  },
  {
   "cell_type": "markdown",
   "metadata": {},
   "source": [
    "# Lists\n",
    "\n",
    "- start with an at symbol \"@\"\n",
    "- also called \"arrays\"\n",
    "- one-dimensional\n",
    "- index zero-based\n",
    "- not strongly typed (can contain mixture of scalar types)\n",
    "- index syntax uses square brackets"
   ]
  },
  {
   "cell_type": "code",
   "execution_count": 9,
   "metadata": {},
   "outputs": [
    {
     "name": "stdout",
     "output_type": "stream",
     "text": [
      "a sub three is 7\n",
      "a is 2 3 5 7 11 13\n",
      "len is 6\n",
      "last index is 5\n"
     ]
    }
   ],
   "source": [
    "%%perl\n",
    "\n",
    "@a = ( 2, 3, 5, 7, 11 );\n",
    "print \"a sub three is $a[3]\\n\";\n",
    "$a[5] = 13;\n",
    "print \"a is @a\\n\";\n",
    "\n",
    "# cast list to scalar to get length\n",
    "$len = @a;\n",
    "print \"len is $len\\n\";\n",
    "\n",
    "# dollar hash gives you index of last element\n",
    "$last_index = $#a;\n",
    "\n",
    "print \"last index is $last_index\\n\""
   ]
  },
  {
   "cell_type": "markdown",
   "metadata": {},
   "source": [
    "# Hash Tables\n",
    "\n",
    "- start with percent sign \"\\%\"\n",
    "- implemented as a list with special properties\n",
    "- key-value pairs\n",
    "- keys are unique\n",
    "- keys can be any scalar value\n",
    "- values can be any scalar value\n",
    "- index syntax users curly braces"
   ]
  },
  {
   "cell_type": "code",
   "execution_count": 10,
   "metadata": {},
   "outputs": [
    {
     "name": "stdout",
     "output_type": "stream",
     "text": [
      "name is Sam\n",
      "h has keys: name age phone\n"
     ]
    }
   ],
   "source": [
    "%%perl\n",
    "\n",
    "%h = ( 'name' => \"Sam\", phone => \"555-1212\");\n",
    "\n",
    "print \"name is $h{name}\\n\";\n",
    "$h{age} = 27;\n",
    "\n",
    "@keys = keys %h;\n",
    "print \"h has keys: @keys\\n\";"
   ]
  },
  {
   "cell_type": "markdown",
   "metadata": {},
   "source": [
    "# Same Name, Different Variables\n",
    "\n",
    "- same name can be reused for scalars, lists, hashes, subroutines, file handles, etc.\n",
    "- each of the following variables refer to something different:\n",
    "\n",
    "```\n",
    "$x = 5;\n",
    "$X = -3.2;\n",
    "@x = ( 3, 7, 23 );\n",
    "%x = ( height => 23, width = 14 );\n",
    "&x($arg1, $arg2);\n",
    "```"
   ]
  },
  {
   "cell_type": "code",
   "execution_count": 11,
   "metadata": {},
   "outputs": [
    {
     "name": "stdout",
     "output_type": "stream",
     "text": [
      "3 5 7 9\n",
      "22\n",
      "7\n"
     ]
    }
   ],
   "source": [
    "%%perl\n",
    "\n",
    "# it is bad practice to use the same name for list and scalar\n",
    "@ary = (3, 5, 7, 9);\n",
    "$ary = 22;\n",
    "\n",
    "print \"@ary\\n\";\n",
    "print \"$ary\\n\";\n",
    "print \"$ary[2]\\n\"\n",
    "\n"
   ]
  },
  {
   "cell_type": "markdown",
   "metadata": {},
   "source": [
    "# Assignment\n",
    "\n",
    "- use single equal sign\n",
    "- left-hand side must be variable (memory location)\n",
    "- otherwise known as \"L-value\"\n",
    "\n",
    "```\n",
    "$a = 2.75;          # scalar, floating point\n",
    "$color = 'yellow';  # scalar, string\n",
    "# array of four strings\n",
    "@ary = ( \"Perl\", \"C++\", \"Java\", \"FORTRAN\", );\n",
    "# hash, two keys (strings), numeric values\n",
    "%ht = ( \"AAPL\" => 282.52, \"MSFT\" => 24.38, ); \n",
    "```"
   ]
  },
  {
   "cell_type": "markdown",
   "metadata": {},
   "source": [
    "# Operator Assignment\n",
    "\n",
    "- ***var* *op*= *val*** same as ***var* = *var* *op* *val***\n",
    "\n",
    "```\n",
    "$a += 10;   $a = $a + 10;       # add 10 to $a\n",
    "$b *= 2.5;         # multiply $b by 2.5\n",
    "$name .= ', Jr.';  # append to $name\n",
    "$mode &= 0722;     # apply bitwise mask to $mode\n",
    "```"
   ]
  },
  {
   "cell_type": "markdown",
   "metadata": {},
   "source": [
    "# Numeric Constants <a class=\"anchor\" id=\"constants\"></a>\n",
    "\n",
    "```\n",
    "10       # decimal integer\n",
    "0722     # octal integer\n",
    "0xF3E9   # hexadecimal integer \n",
    "-2.532   # floating point\n",
    "6.022E23 # floating point (scientific)\n",
    "```"
   ]
  },
  {
   "cell_type": "markdown",
   "metadata": {},
   "source": [
    "# String Constants\n",
    "\n",
    "```\n",
    "'simple'       # single quotes\n",
    "\"one\\ttwo\"     # double quotes\n",
    "<<\"END_TEXT\";  # here document (dbl quotes)\n",
    "1\\t15kg\\t3:25\n",
    "2\\t9kg\\t0:22\n",
    "END_TEXT\n",
    "```\n",
    "\n",
    "See <a href=\"https://perldoc.perl.org/perlop.html#Quote-and-Quote-like-Operators\">https://perldoc.perl.org/perlop.html#Quote-and-Quote-like-Operators</a>."
   ]
  },
  {
   "cell_type": "markdown",
   "metadata": {},
   "source": [
    "# Quotes\n",
    "\n",
    "- single quotes: taken literally\n",
    "- double quotes: interpolate variables and escape sequences\n",
    "  - \\n newline\n",
    "  - \\t tab\n",
    "- here document: multiline (terminating string indicates quote type"
   ]
  },
  {
   "cell_type": "code",
   "execution_count": 12,
   "metadata": {},
   "outputs": [
    {
     "name": "stdout",
     "output_type": "stream",
     "text": [
      "greeting: Hello, my name is Jupyter.\n",
      "mistake : Hello, my name is $name.\n"
     ]
    }
   ],
   "source": [
    "%%perl\n",
    "\n",
    "$name     = 'Jupyter';\n",
    "$greeting = \"Hello, my name is $name.\";\n",
    "$mistake  = 'Hello, my name is $name.';\n",
    "\n",
    "print \"greeting: \", $greeting, \"\\n\";\n",
    "print \"mistake : \", $mistake, \"\\n\";\n"
   ]
  },
  {
   "cell_type": "code",
   "execution_count": 14,
   "metadata": {},
   "outputs": [
    {
     "name": "stdout",
     "output_type": "stream",
     "text": [
      " This is a paragraph about $name, who is $age years old.\n",
      " $name has a favorite color: $favcolor.\n",
      "\n",
      " And now, a tab-aligned table:\n",
      " \n",
      " 15\\t23\\t83\n",
      " 22\\t 4\\t 6\n"
     ]
    }
   ],
   "source": [
    "%%perl\n",
    "\n",
    "$name = 'Jupyter'; $age = 3; $favcolor = 'maroon';\n",
    "\n",
    "print <<\"END_STATEMENT\";   # semicolon goes before quote\n",
    " This is a paragraph about $name, who is $age years old.\n",
    " $name has a favorite color: $favcolor.\n",
    "\n",
    " And now, a tab-aligned table:\n",
    " \n",
    " 15\\t23\\t83\n",
    " 22\\t 4\\t 6\n",
    "END_STATEMENT\n"
   ]
  },
  {
   "cell_type": "markdown",
   "metadata": {},
   "source": [
    "# Operators <a class=\"anchor\" id=\"operators\"></a>\n",
    "\n",
    "- numeric operators are basically like C/C++/Java, plus **\\*\\*** for exponent\n",
    "- string operators **.** (concatenate) and **x** (repeat)\n",
    "- regular expression operators **=~**, **!~**, **s///**, **tr///**, etc.\n",
    "- logical operators (from C/C++/Java or English)\n",
    "- relational operators (numeric and stringwise are different)\n",
    "\n",
    "See: http://perldoc.perl.org/perlop.html"
   ]
  },
  {
   "cell_type": "markdown",
   "metadata": {},
   "source": [
    "# Numeric operators\n",
    "\n",
    "```\n",
    "$x + 3      -4.3 / $z       2 ** 10\n",
    "$i++        --$j            $f % $mod\n",
    "```"
   ]
  },
  {
   "cell_type": "markdown",
   "metadata": {},
   "source": [
    "# Relational Operators\n",
    "\n",
    "```\n",
    "# numeric\n",
    "$x == 3      $a >= -4.3       $m != $n\n",
    "\n",
    "# stringwise\n",
    "$y eq \"AT\"   $title lt 'm'    $q ne 'B'\n",
    "```"
   ]
  },
  {
   "cell_type": "markdown",
   "metadata": {},
   "source": [
    "# Sort Comparison Operators\n",
    "<img src=\"image/scales.png\" align=\"right\" />\n",
    "\n",
    "|   a |  b                       |\n",
    "| ---: | :-----                |\n",
    "| -1 | Left is less than right |\n",
    "|  0 | Left equals right |\n",
    "|  1 | Left is greater than right |\n",
    "\n",
    "```\n",
    "# numeric      stringwise\n",
    "$x <=> $y      $s cmp $t\n",
    "```"
   ]
  },
  {
   "cell_type": "markdown",
   "metadata": {},
   "source": [
    "# Logical Operators\n",
    "\n",
    "```\n",
    "# C-style\n",
    "$ready && ($y > 2)    !$done     $e || $r\n",
    "\n",
    "# lower precedence\n",
    "$ready and $y > 2    not $done    $e or $r\n",
    "\n",
    "# ternary conditional\n",
    "($d != 0) ? ($n / $d) : \"Inf\"\n",
    "```"
   ]
  },
  {
   "cell_type": "markdown",
   "metadata": {},
   "source": [
    "# Other Operators\n",
    "\n",
    "```\n",
    "# string concatenation\n",
    "\"First \" . $item\n",
    "\n",
    "# string repetition\n",
    "\"AB\" x 10\n",
    "\n",
    "# range operator\n",
    "1..10        0..$#ary\n",
    "```"
   ]
  },
  {
   "cell_type": "code",
   "execution_count": 15,
   "metadata": {},
   "outputs": [
    {
     "name": "stdout",
     "output_type": "stream",
     "text": [
      "Lopez, Juan or Juan Lopez\n",
      "Howdy! Howdy! Howdy! Howdy! Howdy! Howdy! Howdy! Howdy! Howdy! Howdy! \n",
      "1 2 3 4 5 6 7 8 9 10 11 12 13 14 15 16 17 18 19 20 21 22 23 24 25 26 27 28 29 30 31 32 33 34 35 36 37 38 39 40 41 42 43 44 45 46 47 48 49 50 51 52 53 54 55\n"
     ]
    }
   ],
   "source": [
    "%%perl\n",
    "\n",
    "$first = \"Juan\"; $last = \"Lopez\";\n",
    "\n",
    "$full = $first . \" \" . $last;\n",
    "\n",
    "print \"$last, $first or $full\\n\";\n",
    "\n",
    "$howdies = \"Howdy! \" x 10;\n",
    "\n",
    "print $howdies, \"\\n\";\n",
    "\n",
    "@list = (1..55);\n",
    "\n",
    "print \"@list\\n\";"
   ]
  },
  {
   "cell_type": "markdown",
   "metadata": {},
   "source": [
    "# Perl Control Statements <a class=\"anchor\" id=\"control\"></a>\n",
    "\n",
    "- Conditionals:\n",
    "  - **if**/**elsif**/**else**\n",
    "  - **unless** (inverse of \"**if**\")\n",
    "  - experimental **given**/**when** like **switch**/**case**\n",
    "- Loops:\n",
    "  - **for(;;)**\n",
    "  - **foreach ()**\n",
    "  - **while()**\n",
    "  - **until()**"
   ]
  },
  {
   "cell_type": "code",
   "execution_count": 17,
   "metadata": {},
   "outputs": [
    {
     "name": "stdout",
     "output_type": "stream",
     "text": [
      "A grade of 44 is a(n) F\n"
     ]
    }
   ],
   "source": [
    "%%perl\n",
    "\n",
    "$grade = 44;\n",
    "\n",
    "if ($grade >= 90)\n",
    "{\n",
    "    $letter = 'A';\n",
    "}\n",
    "elsif ($grade >= 80)\n",
    "{\n",
    "    $letter = 'B';\n",
    "}\n",
    "elsif ($grade >= 70)\n",
    "{\n",
    "    $letter = 'C';\n",
    "}\n",
    "else\n",
    "{\n",
    "    $letter = 'F';\n",
    "}\n",
    "\n",
    "printf(\"A grade of %d is a(n) %s\\n\", $grade, $letter);"
   ]
  },
  {
   "cell_type": "code",
   "execution_count": 18,
   "metadata": {},
   "outputs": [
    {
     "name": "stdout",
     "output_type": "stream",
     "text": [
      "A grade of 88 is a(n) B\n"
     ]
    }
   ],
   "source": [
    "%%perl\n",
    "\n",
    "$grade = 88;\n",
    "\n",
    "unless ($grade >= 70)\n",
    "{\n",
    "    $letter = 'F';\n",
    "}\n",
    "else\n",
    "{\n",
    "    $letter = ($grade >= 90) ? 'A' : (($grade >= 80) ? 'B' : 'C')\n",
    "}\n",
    "\n",
    "printf(\"A grade of %d is a(n) %s\\n\", $grade, $letter);"
   ]
  },
  {
   "cell_type": "code",
   "execution_count": 19,
   "metadata": {},
   "outputs": [
    {
     "name": "stdout",
     "output_type": "stream",
     "text": [
      "A grade of 88 is a(n) B\n"
     ]
    }
   ],
   "source": [
    "%%perl\n",
    "\n",
    "# Newer features require explicit version request\n",
    "use v5.14;\n",
    "\n",
    "no if ($] >= 5.018), 'warnings' => 'experimental';\n",
    "\n",
    "\n",
    "my $grade = 88;\n",
    "my $letter;\n",
    "\n",
    "# \"given\" similar to \"switch\" in C/C++/Java\n",
    "given ($grade)\n",
    "{\n",
    "    # \"when\" similar to \"case\"\n",
    "    when ($_ >= 90) { $letter = 'A' }\n",
    "    when ($_ >= 80) { $letter = 'B' }\n",
    "    when ($_ >= 70) { $letter = 'C' }\n",
    "    default { $letter = 'F' }\n",
    "}\n",
    "\n",
    "\n",
    "printf(\"A grade of %d is a(n) %s\\n\", $grade, $letter);"
   ]
  },
  {
   "cell_type": "markdown",
   "metadata": {},
   "source": [
    "# Conditional After Statement\n",
    "\n",
    "- put statement *before* conditional\n",
    "- does not need braces\n",
    "- no way to handle \"else\"\n",
    "- can be confusing\n",
    "\n",
    "```\n",
    "print \"f is even\\n\" if ($f % 2 == 0);\n",
    "\n",
    "print \"not capitalized\\n\"\n",
    "    unless ($name =~ /^[A-Z]/);\n",
    "```"
   ]
  },
  {
   "cell_type": "markdown",
   "metadata": {},
   "source": [
    "# Logical Operator as Conditional\n",
    "\n",
    "- Perl does \"lazy\" logical evaluation\n",
    "- does not need braces\n",
    "- no way to handle \"else\"\n",
    "- can be confusing\n",
    "\n",
    "```\n",
    "($y != 0) &&           # C-style\n",
    "    $ratio = $x / $y;\n",
    "    \n",
    "(-f $myfile) or        # word style\n",
    "    die \"File $myfile does not exist!\"; \n",
    "```"
   ]
  },
  {
   "cell_type": "markdown",
   "metadata": {},
   "source": [
    "# While Loops\n",
    "\n",
    "- **while(*condition*)**\n",
    "- Conditional runs before the loop body each time\n",
    "  - if true, runs the loop body\n",
    "  - if false, continues after loop\n",
    "\n",
    "```perl\n",
    "while ($answer ne 'q')\n",
    "{\n",
    "  ...\n",
    "  # need something to eventually make condition false\n",
    "}\n",
    "```"
   ]
  },
  {
   "cell_type": "code",
   "execution_count": 21,
   "metadata": {},
   "outputs": [
    {
     "name": "stdout",
     "output_type": "stream",
     "text": [
      "0 0\n",
      "2 46\n",
      "4 92\n",
      "6 138\n"
     ]
    }
   ],
   "source": [
    "%%perl\n",
    "\n",
    "$i = 0;\n",
    "while ($i < 7)\n",
    "{\n",
    "   printf(\"%d %d\\n\", $i, $i *23);\n",
    "   $i += 2;\n",
    "}"
   ]
  },
  {
   "cell_type": "markdown",
   "metadata": {},
   "source": [
    "# C-Style **for** Loops\n",
    "\n",
    "1. initialize\n",
    "2. test\n",
    "3. increment\n",
    "\n",
    "```\n",
    "for ($i = 1; $i < 10; $i++) {\n",
    "  print \"$i\\n\";\n",
    "}\n",
    "```\n",
    "\n",
    "Equivalent:\n",
    "\n",
    "```\n",
    "$i = 1;\n",
    "while ($i < 10) {\n",
    "   print \"$i\\n\";\n",
    "   $i++;\n",
    "}\n",
    "```"
   ]
  },
  {
   "cell_type": "code",
   "execution_count": 22,
   "metadata": {},
   "outputs": [
    {
     "name": "stdout",
     "output_type": "stream",
     "text": [
      "  1    1\n",
      "  2    4\n",
      "  3    9\n",
      "  4   16\n",
      "  5   25\n",
      "  6   36\n",
      "  7   49\n",
      "  8   64\n",
      "  9   81\n",
      " 10  100\n"
     ]
    }
   ],
   "source": [
    "%%perl\n",
    "\n",
    "for ($i = 1; $i <= 10; $i++)\n",
    "{\n",
    "   printf(\"%3d %4d\\n\", $i, $i ** 2);\n",
    "}"
   ]
  },
  {
   "cell_type": "markdown",
   "metadata": {},
   "source": [
    "# Foreach Loops\n",
    "\n",
    "- specify **foreach *var* (*list*)**\n",
    "- loop variable gets each value in the list"
   ]
  },
  {
   "cell_type": "code",
   "execution_count": 23,
   "metadata": {},
   "outputs": [
    {
     "name": "stdout",
     "output_type": "stream",
     "text": [
      "color is red\n",
      "color is orange\n",
      "color is yellow\n",
      "color is green\n",
      "color is blue\n",
      "color is purple\n"
     ]
    }
   ],
   "source": [
    "%%perl\n",
    "\n",
    "@colors = ('red', 'orange', 'yellow', 'green', 'blue', 'purple');\n",
    "\n",
    "# $col is loop variable, @colors is list\n",
    "foreach $col (@colors)\n",
    "{\n",
    "    print \"color is $col\\n\"\n",
    "}"
   ]
  },
  {
   "cell_type": "markdown",
   "metadata": {},
   "source": [
    "# Spanning a List\n",
    "\n",
    "- iterate over indices, from 0 to $#array\n",
    "\n",
    "```\n",
    "foreach $i (0..$#ary)\n",
    "{\n",
    "   printf(\"%3d %5.2f\\n\", $i, $ary[$i]);\n",
    "}\n",
    "```"
   ]
  },
  {
   "cell_type": "code",
   "execution_count": 24,
   "metadata": {},
   "outputs": [
    {
     "name": "stdout",
     "output_type": "stream",
     "text": [
      "0 1 4 9 16 25 36 49 64 81 100 121 144 169 196 225 256 289 324 361 400\n",
      "0 1 8 27 64 125 216 343 512 729 1000 1331 1728 2197 2744 3375 4096 4913 5832 6859 8000\n"
     ]
    }
   ],
   "source": [
    "%%perl\n",
    "\n",
    "foreach $i (0..20)\n",
    "{\n",
    "   $sq[$i] = $i ** 2;\n",
    "   $cb[$i] = $i ** 3;\n",
    "}\n",
    "\n",
    "print \"@sq\\n\";\n",
    "print \"@cb\\n\";"
   ]
  },
  {
   "cell_type": "markdown",
   "metadata": {},
   "source": [
    "# foreach (keys %hash)\n",
    "\n",
    "- **keys(*hash*)** generates list of keys (random order)\n",
    "\n"
   ]
  },
  {
   "cell_type": "code",
   "execution_count": 25,
   "metadata": {},
   "outputs": [
    {
     "name": "stdout",
     "output_type": "stream",
     "text": [
      "Sell AAPL\n"
     ]
    }
   ],
   "source": [
    "%%perl\n",
    "\n",
    "%cost = ( AAPL => 174.13, IBM => 139.03, MSFT => 112.44);\n",
    "\n",
    "foreach $name (keys %cost)\n",
    "{\n",
    "   if ($cost{$name} > 150)\n",
    "   {\n",
    "      print \"Sell $name\\n\"\n",
    "   }\n",
    "}"
   ]
  },
  {
   "cell_type": "markdown",
   "metadata": {},
   "source": [
    "# while ( ( k, v ) = each %hash)\n",
    "\n",
    "- **each(*hash*)** iterates through key, value pairs (random order)\n",
    "\n"
   ]
  },
  {
   "cell_type": "code",
   "execution_count": 26,
   "metadata": {},
   "outputs": [
    {
     "name": "stdout",
     "output_type": "stream",
     "text": [
      "Sell AAPL\n"
     ]
    }
   ],
   "source": [
    "%%perl\n",
    "\n",
    "%cost = ( AAPL => 174.13, IBM => 139.03, MSFT => 112.44);\n",
    "\n",
    "while (($k, $v) = each %cost)\n",
    "{\n",
    "   if ($v > 150)\n",
    "   {\n",
    "      print \"Sell $k\\n\"\n",
    "   }\n",
    "}"
   ]
  },
  {
   "cell_type": "markdown",
   "metadata": {},
   "source": [
    "# Map Function\n",
    "\n",
    "- iterates over list\n",
    "- loop variable is $_\n",
    "- syntax can be tricky\n"
   ]
  },
  {
   "cell_type": "code",
   "execution_count": null,
   "metadata": {},
   "outputs": [],
   "source": [
    "%%perl\n",
    "\n",
    "%cost = ( AAPL => 154.48, IBM => 146.78, MSFT => 74.26);\n",
    "\n",
    "map { print \"Sell $_\\n\" if ($cost{$_} > 150) } (keys %cost);"
   ]
  },
  {
   "cell_type": "markdown",
   "metadata": {},
   "source": [
    "# Common Syntax Errors <a class=\"anchor\" id=\"errors\"></a>\n",
    "\n",
    "- missing braces around block\n",
    "- missing prefix symbol before variable name\n",
    "- using one equal sign instead of two, meaning assignment instead of test\n",
    "- missing close quote"
   ]
  },
  {
   "cell_type": "code",
   "execution_count": 27,
   "metadata": {},
   "outputs": [
    {
     "name": "stderr",
     "output_type": "stream",
     "text": [
      "syntax error at - line 6, near \")\n",
      "   print\"\n",
      "Execution of - aborted due to compilation errors.\n"
     ]
    }
   ],
   "source": [
    "%%perl\n",
    "\n",
    "# get a random number between 0 and 1\n",
    "$remaining = rand(1.0);\n",
    "\n",
    "if ($remaining > 0.5)\n",
    "   print(\"have remaining work to do\\n\");"
   ]
  },
  {
   "cell_type": "code",
   "execution_count": 29,
   "metadata": {},
   "outputs": [
    {
     "name": "stdout",
     "output_type": "stream",
     "text": [
      "2\n",
      "3\n",
      "5\n",
      "7\n",
      "11\n",
      "13\n",
      "17\n",
      "19\n",
      "\n",
      "\n",
      "\n",
      "\n",
      "\n",
      "\n",
      "\n",
      "\n",
      "\n",
      "\n",
      "\n",
      "\n",
      "33\n"
     ]
    }
   ],
   "source": [
    "%%perl\n",
    "\n",
    "@ary = (2, 3, 5, 7, 11, 13, 17, 19);\n",
    "\n",
    "ary[20] = 33;\n",
    "\n",
    "for ($i = 0; $i <= $#ary; $i++)\n",
    "{\n",
    "   print $ary[$i], \"\\n\";\n",
    "}"
   ]
  },
  {
   "cell_type": "code",
   "execution_count": 32,
   "metadata": {},
   "outputs": [
    {
     "name": "stdout",
     "output_type": "stream",
     "text": [
      "2\n",
      "3\n",
      "5\n",
      "value is 7\n",
      "7\n",
      "11\n",
      "13\n",
      "17\n",
      "19\n"
     ]
    }
   ],
   "source": [
    "%%perl\n",
    "\n",
    "# use warnings;\n",
    "\n",
    "@ary = (2, 3, 5, 7, 11, 13, 17, 19);\n",
    "\n",
    "for ($i = 0; $i <= $#ary; $i++)\n",
    "{\n",
    "   if ($ary[$i] = 7)\n",
    "   {\n",
    "       print \"value is 7\\n\";\n",
    "   }\n",
    "   print $ary[$i], \"\\n\";\n",
    "}"
   ]
  },
  {
   "cell_type": "markdown",
   "metadata": {},
   "source": [
    "# Errors and Warnings\n",
    "<img src=\"image/ConfusedComputer.png\" align=\"right\" />\n",
    "\n",
    "- Warning is “non-fatal”, can still keep going\n",
    "- Error can be at:\n",
    "  - Compile time, e.g., syntax errors\n",
    "  - Run time:\n",
    "    - Numeric, e.g., division by zero\n",
    "    - Reference type, e.g., hash vs. List\n",
    "    - Object method"
   ]
  },
  {
   "cell_type": "markdown",
   "metadata": {},
   "source": [
    "# Warnings\n",
    "\n",
    "- start perl with **-w** option on command line\n",
    "- **use warnings;** pragma\n",
    "\n",
    "Turns on extra warnings of common problems.  Compiler will complain but keep running the program.\n",
    "\n",
    "See <a href=\"../../edit/Introduction_to_Perl/bounds.pl\">bounds.pl</a>."
   ]
  },
  {
   "cell_type": "code",
   "execution_count": 34,
   "metadata": {},
   "outputs": [
    {
     "name": "stdout",
     "output_type": "stream",
     "text": [
      "b = 3\n"
     ]
    },
    {
     "name": "stderr",
     "output_type": "stream",
     "text": [
      "Use of uninitialized value in addition (+) at bounds.pl line 8.\n"
     ]
    }
   ],
   "source": [
    "%%bash\n",
    "\n",
    "perl bounds.pl"
   ]
  },
  {
   "cell_type": "code",
   "execution_count": null,
   "metadata": {},
   "outputs": [],
   "source": [
    "%%perl\n",
    "\n",
    "my @a = (1, 2);\n",
    "\n",
    "my $b = $a[0] + $a[1] + $a[2];\n",
    "\n",
    "print \"b = $b\\n\"; "
   ]
  },
  {
   "cell_type": "markdown",
   "metadata": {},
   "source": [
    "# \"should be ==\"\n",
    "\n",
    "```\n",
    "print \"c is ten\\n\" if ($c = 10);\n",
    "```\n",
    "\n",
    "```\n",
    "$ ./twoeq.pl \n",
    "Found = in conditional, should be == at ./twoeq.pl line 8.\n",
    "```\n",
    "\n",
    "See <a href=\"../../edit/Introduction_to_Perl/twoeq.pl\">twoeq.pl</a>."
   ]
  },
  {
   "cell_type": "code",
   "execution_count": 37,
   "metadata": {},
   "outputs": [
    {
     "name": "stdout",
     "output_type": "stream",
     "text": [
      "c is 5\n",
      "c is 5\n"
     ]
    }
   ],
   "source": [
    "%%bash\n",
    "\n",
    "perl twoeq.pl"
   ]
  },
  {
   "cell_type": "code",
   "execution_count": null,
   "metadata": {},
   "outputs": [],
   "source": [
    "%%perl\n",
    "\n",
    "my $c = int(rand(20));\n",
    "\n",
    "print \"c is $c\\n\";\n",
    "print \"c is ten\\n\" if ($c = 10);\n",
    "print \"c is $c\\n\";\n"
   ]
  },
  {
   "cell_type": "markdown",
   "metadata": {},
   "source": [
    "# Syntax Errors\n",
    "\n",
    "```\n",
    "while val < 10\n",
    "```\n",
    "\n",
    "```\n",
    "$ perl synerr.pl \n",
    "syntax error at synerr.pl line 4, near \"while val \"\n",
    "syntax error at synerr.pl line 8, near \"}\"\n",
    "Execution of synerr.pl aborted due to compilation errors.\n",
    "```\n",
    "\n",
    "See <a href=\"../../edit/Introduction_to_Perl/synerr.pl\">synerr.pl</a>."
   ]
  },
  {
   "cell_type": "code",
   "execution_count": 40,
   "metadata": {},
   "outputs": [
    {
     "name": "stderr",
     "output_type": "stream",
     "text": [
      "syntax error at synerr.pl line 6, near \"while $val \"\n",
      "Can't find string terminator '\"' anywhere before EOF at synerr.pl line 9.\n"
     ]
    }
   ],
   "source": [
    "%%bash\n",
    "\n",
    "perl synerr.pl"
   ]
  },
  {
   "cell_type": "markdown",
   "metadata": {},
   "source": [
    "# Runaway Strings\n",
    "\n",
    "```\n",
    "$ ./closeq.pl \n",
    "Scalar found where operator expected at ./closeq.pl line 8, near \"print \"$a\"\n",
    "  (Might be a runaway multi-line \"\" string starting on line 3)\n",
    "        (Do you need to predeclare print?)\n",
    "Backslash found where operator expected at ./closeq.pl line 8, near \"$a\\\"\n",
    "        (Missing operator before \\?)\n",
    "String found where operator expected at ./closeq.pl line 8, at end of line\n",
    "        (Missing semicolon on previous line?)\n",
    "syntax error at ./closeq.pl line 8, near \"print \"$a\"\n",
    "Can't find string terminator '\"' anywhere before EOF at ./closeq.pl\n",
    "```\n",
    "\n",
    "See <a href=\"../../edit/Introduction_to_Perl/closeq.pl\">closeq.pl</a>."
   ]
  },
  {
   "cell_type": "code",
   "execution_count": 41,
   "metadata": {},
   "outputs": [
    {
     "name": "stdout",
     "output_type": "stream",
     "text": [
      "7\n",
      "9\n",
      "11\n"
     ]
    }
   ],
   "source": [
    "%%bash\n",
    "\n",
    "perl closeq.pl"
   ]
  },
  {
   "cell_type": "markdown",
   "metadata": {},
   "source": [
    "# DIY Diagnostics\n",
    "\n",
    "- do your own checks before errors are generated:\n",
    "\n",
    "```\n",
    "die \"denominator zero \" if ($d == 0);\n",
    "$r = $n / $d;\n",
    "\n",
    "(-f $myfile)\n",
    "   or die \"no such file $myfile\";\n",
    "open(FD, \"<$myfile\");\n",
    "```\n",
    "\n",
    "- **die()** prints message to STDERR and exits program\n",
    "- **warn()** prints message to STDERR and continues running\n",
    "- see also <a href=\"https://perldoc.perl.org/Carp.html\">Carp</a> library"
   ]
  },
  {
   "cell_type": "markdown",
   "metadata": {},
   "source": [
    "# System Error String **$!**\n",
    "\n",
    "If a system call fails, look at **$!** variable\n",
    "\n",
    "```\n",
    "open FH, $myfile, \"r\" or\n",
    "    die \"open $myfile: $! \";\n",
    "```\n",
    "\n",
    "```\n",
    "$ perl nofile.pl \n",
    "open needfile: No such file or directory at nofile.pl line 4.\n",
    "```\n",
    "\n",
    "See <a href=\"../../edit/Introduction_to_Perl/nofile.pl\">nofile.pl</a>."
   ]
  },
  {
   "cell_type": "code",
   "execution_count": 42,
   "metadata": {},
   "outputs": [
    {
     "name": "stderr",
     "output_type": "stream",
     "text": [
      "open needfile: No such file or directory  at nofile.pl line 4.\n"
     ]
    }
   ],
   "source": [
    "%%bash\n",
    "\n",
    "perl nofile.pl"
   ]
  },
  {
   "cell_type": "markdown",
   "metadata": {},
   "source": [
    "# Variable Scope\n",
    "\n",
    "- using the “**my**” declaration makes a variable local to the statement block or file.\n",
    "- don’t use “**local**” declaration unless you understand it—the “**my**” declaration is almost always what you want.\n",
    "- the “**our**” declaration is used for declaring global variables within packages (modules). "
   ]
  },
  {
   "cell_type": "markdown",
   "metadata": {},
   "source": [
    "# Examples of Local Variables \n",
    "\n",
    "- put multiple declared variables in list, using parentheses\n",
    "\n",
    "```\n",
    "my $a;\n",
    "my @f;\n",
    "my $x = \"initial value\";\n",
    "my ($i, $j, $k);\n",
    "foreach my $item (@ilist) {\n",
    "    $sum += $item;\n",
    "}\n",
    "```\n"
   ]
  },
  {
   "cell_type": "markdown",
   "metadata": {},
   "source": [
    "# Example of Scope\n",
    "\n",
    "```\n",
    "my @numlist = (3, 4, 5);\n",
    "\n",
    "foreach my $item (@numlist) {\n",
    "    print \"item = $item\\n\";\n",
    "}\n",
    "print \"item = $item\\n\";\n",
    "```\n",
    "\n",
    "See <a href=\"../../edit/Introduction_to_Perl/scopeex.pl\">scopeex.pl</a>."
   ]
  },
  {
   "cell_type": "code",
   "execution_count": 44,
   "metadata": {},
   "outputs": [
    {
     "name": "stdout",
     "output_type": "stream",
     "text": [
      "item = 3\n",
      "item = 4\n",
      "item = 5\n",
      "item = 99\n"
     ]
    }
   ],
   "source": [
    "%%bash\n",
    "\n",
    "perl scopeex.pl"
   ]
  },
  {
   "cell_type": "markdown",
   "metadata": {},
   "source": [
    "# Strict Pragma\n",
    "\n",
    "Put “**use strict**” pragma at top to require use of “**my**” declarations.\n",
    "\n",
    "```\n",
    "use strict;\n",
    "$x = 15;\n",
    "my $y = 19;\n",
    "print ”y = $y\\n\"; \n",
    "```\n"
   ]
  },
  {
   "cell_type": "code",
   "execution_count": 45,
   "metadata": {},
   "outputs": [
    {
     "name": "stderr",
     "output_type": "stream",
     "text": [
      "Global symbol \"$x\" requires explicit package name at - line 3.\n",
      "Execution of - aborted due to compilation errors.\n"
     ]
    }
   ],
   "source": [
    "%%perl\n",
    "\n",
    "use strict;\n",
    "$x = 15;\n",
    "my $y = 19;\n",
    "print \"y = $y\\n\"; \n"
   ]
  },
  {
   "cell_type": "markdown",
   "metadata": {},
   "source": [
    "# File Handles <a class=\"anchor\" id=\"IO\"></a>\n",
    "\n",
    "- STDIN, STDOUT, and STDERR correspond to the stdin, stdout, and stderr of C/C++. \n",
    "- A simple Perl filehandle is a name by itself, typically all caps.\n",
    "- Filehandles can be scalar variables, too.\n",
    "- Objects from **IO::File** and similar library modules have advantages."
   ]
  },
  {
   "cell_type": "markdown",
   "metadata": {},
   "source": [
    "# Printing\n",
    "\n",
    "- **print()** prints a list of strings\n",
    "- **printf()** formats output as in C/C++/Java\n",
    "- **syswrite()** unbuffered, low-level (useful for binary data)\n",
    "\n",
    "# When Using Filehandles\n",
    "- **print *FH* *LIST* **\n",
    "- **printf *FH* *format-string*, *arg1*, ...**\n",
    "- **syswrite *FH*, *data*, *length* **\n",
    "\n",
    "(note the comma only used in **syswrite()** after filehandle)"
   ]
  },
  {
   "cell_type": "markdown",
   "metadata": {},
   "source": [
    "# Print Examples\n",
    "\n",
    "```\n",
    "print \"Hello, world!\\n\";\n",
    "print STDOUT \"Hello, world!\\n\"; # same\n",
    "print STDERR \"File not found:\", $fname, \"\\n\";\n",
    "printf MYRPT \"%d items processed\\n\", $count; \n",
    "printf MYRPT (\"%d items processed\\n\", $count);      # same\n",
    "```"
   ]
  },
  {
   "cell_type": "markdown",
   "metadata": {},
   "source": [
    "# Reading Input\n",
    "\n",
    "- **< >**\n",
    "  - input from STDIN\n",
    "  - buffered input\n",
    "- **< *FH* >**\n",
    "  - input from *FH*\n",
    "  - buffered input\n",
    "- **sysread(*FH*, *data*, *count*)**\n",
    "  - low-level read from *FH*\n",
    "  - unbuffered"
   ]
  },
  {
   "cell_type": "markdown",
   "metadata": {},
   "source": [
    "# Opening a File\n",
    "\n",
    "- the open function opens a file for reading, writing, appending, or more\n",
    "- can specify a bareword file handle name or a scalar variable\n",
    "\n",
    "```\n",
    "open(MYINFO, \"<info.dat\") or\n",
    "    die(\"open info.dat: $! \");\n",
    "open $fh, \">logfile\" or die $!;\n",
    "```\n",
    "\n",
    "# Choosing a Mode\n",
    "\n",
    "| mode  | normal | bi-directional |\n",
    "| ---:  | :----: | :-----------:  |\n",
    "| read  |  **<** |  **+<**        |\n",
    "| write |  **>** |  **+>**        |\n",
    "| append |  **>>** |  **+>>**        |\n",
    "\n",
    "```\n",
    "open(MYINFO, ”+<info.dat\") or\n",
    "    die(\"open info.dat: $! \");\n",
    "open $fh, $fname, \">>\" or die $!;\n",
    "```"
   ]
  },
  {
   "cell_type": "markdown",
   "metadata": {},
   "source": [
    "# Putting it Together\n",
    "\n",
    "```\n",
    "open RAW, $rfile, \"<\"; \n",
    "open $ofh, \">>results\";\n",
    "while ($line = <RAW>) {\n",
    "    @useful = myprocess($line);\n",
    "    printf $ofh \"%d,%6.2f,%s\\n\", @useful;\n",
    "}\n",
    "```"
   ]
  },
  {
   "cell_type": "markdown",
   "metadata": {},
   "source": [
    "# Reading From Commands\n",
    "\n",
    "- put pipe \"**|**\" at beginning to print to (as filter)\n",
    "- put pipe \"**|**\" at end to read output from (as source)\n",
    "\n",
    "```\n",
    "# run the ps command and pipe the output to PS\n",
    "open(PS, \"/bin/ps -auxww|\") or die $!;\n",
    "\n",
    "# read all of the output (removing processes running by root or apache)\n",
    "@lines = grep !/^(root|apache)/, <PS>;\n",
    "\n",
    "# print first ten lines\n",
    "print @lines[0..10];\n",
    "\n",
    "```"
   ]
  },
  {
   "cell_type": "code",
   "execution_count": 46,
   "metadata": {},
   "outputs": [
    {
     "name": "stdout",
     "output_type": "stream",
     "text": [
      "USER       PID %CPU %MEM    VSZ   RSS TTY      STAT START   TIME COMMAND\n",
      "dbus      1134  0.0  0.0  58144  2276 ?        Ss   Nov13   0:21 /usr/bin/dbus-daemon --system --address=systemd: --nofork --nopidfile --systemd-activation\n",
      "polkitd   1136  0.0  0.0 613336 14432 ?        Ssl  Nov13   0:00 /usr/lib/polkit-1/polkitd --no-debug\n",
      "chrony    1156  0.0  0.0 117804  1776 ?        S    Nov13   0:02 /usr/sbin/chronyd\n",
      "mysql     1736  0.0  0.0 113316  1556 ?        Ss   Nov13   0:00 /bin/sh /usr/bin/mysqld_safe --basedir=/usr\n",
      "mysql     2086  0.0  0.5 971032 86620 ?        Sl   Nov13   9:13 /usr/libexec/mysqld --basedir=/usr --datadir=/var/lib/mysql --plugin-dir=/usr/lib64/mysql/plugin --log-error=/var/log/mariadb/mariadb.log --pid-file=/var/run/mariadb/mariadb.pid --socket=/var/lib/mysql/mysql.sock\n",
      "kjackson 21861  0.0  0.4 452684 64276 ?        Ssl  Nov21   0:07 /opt/Anaconda/3-5.2.0/bin/python /opt/Anaconda/3-5.2.0/bin/jupyterhub-singleuser --port=57492\n",
      "kjackson 22764  0.0  0.0  22736  2156 ?        Ss   07:18   0:01 tmux new-session\n",
      "kjackson 22765  0.0  0.0 115568  2084 pts/2    Ss   07:18   0:00 -bash\n",
      "kjackson 22878  0.0  0.0 115568  2048 pts/3    Ss+  08:18   0:00 -bash\n",
      "kjackson 23637  0.0  0.0 161404  3568 ?        S    09:32   0:00 sshd: kjackson@pts/0\n"
     ]
    }
   ],
   "source": [
    "%%perl\n",
    "\n",
    "open(PS, \"/bin/ps -auxww|\") or die $!;\n",
    "\n",
    "@lines = grep !/^(root|apache)/, <PS>;\n",
    "\n",
    "print @lines[0..10];"
   ]
  },
  {
   "cell_type": "markdown",
   "metadata": {},
   "source": [
    "# File Encodings\n",
    "\n",
    "Specify a particular character encoding for reading and writing\n",
    "\n",
    "```\n",
    "my $handle   = undef;\n",
    "my $filename = \"/some/path/to/a/textfile/goes/here\";\n",
    "my $encoding = \":encoding(UTF-8)\";\n",
    "\n",
    "open($handle, \">> $encoding\", $filename)\n",
    "    || die \"$0: can't open $filename for appending: $!\";\n",
    "print $handle @lines;\n",
    "```"
   ]
  },
  {
   "cell_type": "markdown",
   "metadata": {},
   "source": [
    "# Working With Binary Files\n",
    "\n",
    "- Use [**sysopen()**](http://perldoc.perl.org/functions/sysopen.html), [**sysread()**](http://perldoc.perl.org/functions/sysopen.html), and [**syswrite()**](http://perldoc.perl.org/functions/sysopen.html)\n",
    "- Do not mix with [**<>**](http://perldoc.perl.org/perlop.html#I%2fO-Operators), [**print()**](http://perldoc.perl.org/functions/print.html), [**printf()**](http://perldoc.perl.org/functions/printf.html), and [**say()**](http://perldoc.perl.org/functions/say.html) which use buffered I/O\n",
    "- See the [Perl pack() tutorial](https://perldoc.perl.org/perlpacktut.html#Packing-and-Unpacking-C-Structures) to learn how to read fixed-length records properly aligned in memory to the correct data types"
   ]
  },
  {
   "cell_type": "markdown",
   "metadata": {},
   "source": [
    "# Regular Expressions <a class=\"anchor\" id=\"regex\"></a>\n",
    "\n",
    "- Regular expressions are patterns designed to concisely match a set of strings which follow the rules of the given pattern\n",
    "- Regular expressions have a long history in Unix (**ed**, **grep**, **vi**, **awk**)\n",
    "- Perl extends the traditional regular expressions, adding new rules"
   ]
  },
  {
   "cell_type": "markdown",
   "metadata": {},
   "source": [
    "# Quick Examples\n",
    "\n",
    "```\n",
    "$name =~ /Mich/;     # Michael, Michelle, Michigan, ...\n",
    "\n",
    "$shell =~ /^[abck]sh/;     # csh, ksh (not bash)\n",
    "\n",
    "$fname !~ /.*\\.[ch]$/;     # not a C source\n",
    "\n",
    "$command =~ s?^?/usr/bin?;    # prepend dir\n",
    "\n",
    "$dosfile =~ tr/A-Z/a-z/;      # change case\n",
    "```"
   ]
  },
  {
   "cell_type": "markdown",
   "metadata": {},
   "source": [
    "# Main Regexp Operators\n",
    "\n",
    "|**Operator** | **Use** | **Return** |\n",
    "| ------------- |:-------------:| -----:|\n",
    "| qr/_pattern_/ | precompile | regexp |\n",
    "| /_pattern_/    | match      | boolean |\n",
    "| m{_pattern_}    | match      | boolean |\n",
    "| s/_pattern_/_replacement_/ | substitute  | count of replacements |\n",
    "| s{_pattern_}{_replacement_} | substitute  | count of replacements |\n",
    "| tr/_set1_/_set2_/ | transliterate  | count of replacements |\n",
    "| y?_set1_?_set2_? | transliterate  | count of replacements |\n"
   ]
  },
  {
   "cell_type": "markdown",
   "metadata": {},
   "source": [
    "# [**split()**](https://perldoc.perl.org/functions/split.html) and [**grep()**](https://perldoc.perl.org/functions/grep.html)\n",
    "\n",
    "- **split()** function divides a string using regexp for the separator pattern\n",
    "\n",
    "```\n",
    "split(/[:,]/, 'a:fg:x:::2,2:3 KB');\n",
    "```\n",
    "\n",
    "- **grep()** function finds matches in a list\n",
    "\n",
    "```\n",
    "grep /^A.*s$/, qw(Adams Aaron Avons arts);\n",
    "```"
   ]
  },
  {
   "cell_type": "code",
   "execution_count": 47,
   "metadata": {
    "scrolled": true
   },
   "outputs": [
    {
     "name": "stdout",
     "output_type": "stream",
     "text": [
      "full = (Adams Aaron Avons arts)\n",
      "picks = (Adams Avons)\n"
     ]
    }
   ],
   "source": [
    "%%perl\n",
    "\n",
    "$input = 'Adams:Aaron:Avons:arts';\n",
    "@full = split(/:/, $input);\n",
    "print \"full = (@full)\\n\";\n",
    "\n",
    "@picks = grep /^A.*s$/, @full;\n",
    "print \"picks = (@picks)\\n\";"
   ]
  },
  {
   "cell_type": "markdown",
   "metadata": {},
   "source": [
    "# Metacharacters\n",
    "\n",
    "| Character | Use |\n",
    "|------|-----|\n",
    "| \\\\ | Quote the next metacharacter |\n",
    "| ^  | Match start of line |\n",
    "| .  | Match any one character |\n",
    "| $  | Match end of line |\n",
    "| &#124; | Alternation |\n",
    "| () | Grouping |\n",
    "| \\[ \\] | Character class |\n",
    "\n",
    "See [Regexp tutorial](http://perldoc.perl.org/perlre.html)"
   ]
  },
  {
   "cell_type": "markdown",
   "metadata": {},
   "source": [
    "# Quantifiers\n",
    "\n",
    "| Character | Use |\n",
    "|------|-----|\n",
    "| &#42;| 0 or more |\n",
    "| +  | 1 or more |\n",
    "| ?  | 0 or 1 |\n",
    "| {n}  | exactly _n_ |\n",
    "| {n,} | _n_ or more |\n",
    "| {n,m} | at least _n_ but no more than _m_ |\n",
    "\n",
    "See [Regexp tutorial](http://perldoc.perl.org/perlre.html)"
   ]
  },
  {
   "cell_type": "markdown",
   "metadata": {},
   "source": [
    "# Escape Sequences\n",
    "\n",
    "| Character | Use |\n",
    "|------|-----|\n",
    "| \\\\t \\\\n \\\\033 | C-style control characters |\n",
    "| \\\\l  | lowercase next character |\n",
    "| \\\\u  | uppercase next character |\n",
    "| \\\\L  | lowercase until **\\\\E** |\n",
    "| \\\\U  | uppercase until **\\\\E** |\n",
    "| \\\\E  | end case modification |\n",
    "| \\\\Q  | disable metacharacters until **\\\\E** |\n",
    "\n",
    "See [Regexp tutorial](http://perldoc.perl.org/perlre.html)"
   ]
  },
  {
   "cell_type": "markdown",
   "metadata": {},
   "source": [
    "# Character Classes\n",
    "\n",
    "| Character | Use |\n",
    "|------|-----|\n",
    "| \\\\w | word character: ** \\[a-zA-Z0-9\\_\\] ** |\n",
    "| \\\\W  | non-word character: ** \\[^a-zA-Z0-9\\_\\] ** |\n",
    "| \\\\s  | space character (space, tab) |\n",
    "| \\\\S  | non-space |\n",
    "| \\\\d  | digit character: ** \\[0-9\\] ** |\n",
    "| \\\\D  | non-digit character: ** \\[^0-9\\] ** |\n",
    "| \\\\1 \\\\2 \\\\3  | back refrences to groupings with parens |\n",
    "\n",
    "See [Regexp tutorial](http://perldoc.perl.org/perlre.html)"
   ]
  },
  {
   "cell_type": "markdown",
   "metadata": {},
   "source": [
    "# Capture Buffers\n",
    "\n",
    "- ** \\( \\) ** grouping is saved in buffers\n",
    "  ** \\\\1 **, ** \\\\2 **, ... or \\(better\\) ** \\$1 **, ** \\$2 **, ...\n",
    "    \n",
    "```\n",
    "$line =~ /^(\\w+) (\\d+)\\s*(\\w+)?$/;\n",
    "$name = $1; $count = $2; $optlabel = $3;\n",
    "\n",
    "$fullname =~ s/^(\\w+), (\\w+)$/$2 $1/?;\n",
    "\n",
    "($fn, $ln) = ($N =~ /^(\\w+) \\w+ (\\w+)$/);\n",
    "```"
   ]
  },
  {
   "cell_type": "markdown",
   "metadata": {},
   "source": [
    "# Process Counting\n",
    "\n",
    "```\n",
    "use IO::File;     # import module\n",
    "\n",
    "# open passwd file for reading\n",
    "my $pwtbl = new IO::File \"</etc/passwd\";\n",
    "\n",
    "# run ps command, open output as a pipe for reading\n",
    "open my $pscom, \"ps hauxww |\";\n",
    "\n",
    "# get real name from fifth column, indexed to login in first column\n",
    "my %realname = ();\n",
    "while (<$pwtbl>) {\n",
    "    @fields = split(/:/);\n",
    "    next unless ($fields[2] > 1000);\n",
    "    $realname{$fields[0]} = $fields[4];\n",
    "}\n",
    "\n",
    "# scan processes, counting by login\n",
    "my %numprocs = ();\n",
    "while (<$pscom>) {\n",
    "   my ($login) = (m/^(\\w+)/);\n",
    "   next unless (exists $realname{$login});\n",
    "   $numprocs{$login} = 0\n",
    "        unless (exists $numprocs{$login});\n",
    "   $numprocs{$login}++;\n",
    "}\n",
    "\n",
    "# print a summary of totals by user\n",
    "foreach my $login (sort keys %numprocs) {\n",
    "    printf(\"%4d procs for %9s (%s)\\n\",\n",
    "        $numprocs{$login}, $login,\n",
    "        $realname{$login});\n",
    "}\n",
    "```"
   ]
  },
  {
   "cell_type": "code",
   "execution_count": 48,
   "metadata": {},
   "outputs": [
    {
     "name": "stdout",
     "output_type": "stream",
     "text": [
      "  13 procs for  kjackson (Keith E Jackson)\n",
      "   3 procs for   mcoll19 (Mark Collins)\n",
      "   2 procs for  pcofoche (Paul Ofoche)\n",
      "   2 procs for   sunxm03 (xiangmin sun)\n"
     ]
    }
   ],
   "source": [
    "%%perl\n",
    "\n",
    "use IO::File;     # import module\n",
    "\n",
    "# open passwd file for reading\n",
    "my $pwtbl = new IO::File \"</etc/passwd\";\n",
    "\n",
    "# run ps command, open output as a pipe for reading\n",
    "open my $pscom, \"ps hauxww |\";\n",
    "\n",
    "# get real name from fifth column, indexed to login in first column\n",
    "my %realname = ();\n",
    "while (<$pwtbl>) {\n",
    "    @fields = split(/:/);\n",
    "    next unless ($fields[2] > 1000);\n",
    "    $realname{$fields[0]} = $fields[4];\n",
    "}\n",
    "\n",
    "# scan processes, counting by login\n",
    "my %numprocs = ();\n",
    "while (<$pscom>) {\n",
    "   my ($login) = (m/^(\\w+)/);\n",
    "   next unless (exists $realname{$login});\n",
    "   $numprocs{$login} = 0\n",
    "        unless (exists $numprocs{$login});\n",
    "   $numprocs{$login}++;\n",
    "}\n",
    "\n",
    "# print a summary of totals by user\n",
    "foreach my $login (sort keys %numprocs) {\n",
    "    printf(\"%4d procs for %9s (%s)\\n\",\n",
    "        $numprocs{$login}, $login,\n",
    "        $realname{$login});\n",
    "}\n"
   ]
  },
  {
   "cell_type": "markdown",
   "metadata": {},
   "source": [
    "# References <a class=\"anchor\" id=\"references\"></a>\n",
    "\n",
    "<img src=\"image/pointer-dog.gif\" />"
   ]
  },
  {
   "cell_type": "markdown",
   "metadata": {},
   "source": [
    "# References\n",
    "\n",
    "Perl references are scalars which contain a pointer to:\n",
    "    - another scalar\n",
    "    - an array\n",
    "    - a hash table\n",
    "    - a subroutine\n",
    "    - typeglobs"
   ]
  },
  {
   "cell_type": "markdown",
   "metadata": {},
   "source": [
    "# References to Variables\n",
    "\n",
    "```\n",
    "$sc_ref = \\$number;   # scalar\n",
    "\n",
    "$ar_ref = \\@namelist; # array\n",
    "\n",
    "$hs_ref = \\%lookup;   # hash\n",
    "\n",
    "$sb_ref = \\&mysub;    # subroutine\n",
    "```"
   ]
  },
  {
   "cell_type": "markdown",
   "metadata": {},
   "source": [
    "# References to Anonymous\n",
    "\n",
    "```\n",
    "$ar_ref = [ 4, 3, 3, 7 ];       # array\n",
    "\n",
    "$hs_ref = { m => 6, n => 9 };   # hash\n",
    "\n",
    "$sb_ref = sub { return(shift(@_) + 1) };   # subroutine\n",
    "```"
   ]
  },
  {
   "cell_type": "markdown",
   "metadata": {},
   "source": [
    "# Dereferencing\n",
    "\n",
    "Dereference by:\n",
    "    \n",
    "1. using type symbol (** \\$ **, ** @ **, ** % **, ** & **) then the reference variable ( in curly braces ** { } ** if necessary )\n",
    "2. access an element by inserting arrow ** -> ** between reference variable and the element specifier: square brackets ** \\[ \\] ** for arrays, curly braces ** { } ** for hashes, and parens ** \\( \\) ** around subroutine arguments after arrow"
   ]
  },
  {
   "cell_type": "markdown",
   "metadata": {},
   "source": [
    "# Bracing References\n",
    "\n",
    "```\n",
    "$sc_ref = \\$number;   # scalar\n",
    "\n",
    "printf(\"%d\\n\", ${$sc_ref});\n",
    "printf(\"%d\\n\", $number);\n",
    "\n",
    "$ar_ref = \\@namelist; # array\n",
    "\n",
    "push(@{$ar_ref}, \"Henry\");\n",
    "push(@namelist, \"Henry\");\n",
    "\n",
    "$hs_ref = \\%lookup;   # hash\n",
    "\n",
    "@logins = keys %{$hs_ref};\n",
    "@logins = keys %lookup;\n",
    "\n",
    "$sb_ref = \\&mysub;    # subroutine\n",
    "\n",
    "$rc = &{$sb_ref}($arg1, $arg2);\n",
    "$rc = mysub($arg1, $arg2);\n",
    "```"
   ]
  },
  {
   "cell_type": "markdown",
   "metadata": {},
   "source": [
    "# Leave Off the Braces\n",
    "\n",
    "You don't always have to surround the reference variable with braces, as long as doing so doesn't create ambiguity.\n",
    "\n",
    "```\n",
    "@{$ar_ref}    @$ar_ref\n",
    "%{$hs_ref}    %$hs_ref\n",
    "```"
   ]
  },
  {
   "cell_type": "markdown",
   "metadata": {},
   "source": [
    "# Subelements\n",
    "\n",
    "- You can use braces:\n",
    "\n",
    "```\n",
    "$ar_ref = \\@namelist; # array\n",
    "\n",
    "$fourth = ${$ar_ref}[3];\n",
    "$fourth = $namelist[3];\n",
    "\n",
    "foreach $i (0..$#{$ar_ref}) …\n",
    "foreach $i (0..$#namelist) …\n",
    "     \n",
    "$hs_ref = \\%lookup; # hash\n",
    "\n",
    "$myid = ${$hs_ref}{$login};\n",
    "$myid = $lookup{$login};\n",
    "```\n",
    "\n",
    "- Or you can use arrows:\n",
    "\n",
    "```\n",
    "$ar_ref = \\@namelist; #array\n",
    "\n",
    "$fourth = $ar_ref->[3];\n",
    "$fourth = $namelist[3];\n",
    "\n",
    "\n",
    "$hs_ref = \\%lookup; # hash\n",
    "\n",
    "$myid = ${$hs_ref}{$login};\n",
    "$myid = $hs_ref->{$login};\n",
    "$myid = $lookup{$login};\n",
    "\n",
    "$wrong = $hs_ref{$login};\n",
    "\n",
    "$sb_ref = \\&mysub; # subroutine\n",
    "\n",
    "$rc = ${$sb_ref}($arg1, $arg2);\n",
    "$rc = $sb_ref->($arg1, $arg2);\n",
    "$rc = mysub($arg1, $arg2);\n",
    "\n",
    "$wrong = $sb_ref($arg1, $arg2); \n",
    "$wrong = sb_ref($arg1, $arg2);\n",
    "```"
   ]
  },
  {
   "cell_type": "markdown",
   "metadata": {},
   "source": [
    "# Multi-Dimensional Arrays\n",
    "\n",
    "For 2-dimensional arrays, create a list of references to lists:\n",
    "\n",
    "```\n",
    "@table =\n",
    "(\n",
    "   [  2, -1,  3 ],\n",
    "   [  0, 10, -9 ],\n",
    "   [ 18,  3,  4 ],\n",
    ");\n",
    "\n",
    "# These are all the same\n",
    "$x = ${$table[1]}[2];\n",
    "$x = $table[1]->[2];\n",
    "$x = $table[1][2];\n",
    "```\n",
    "\n",
    "See [Perl data structures tutorial](https://perldoc.perl.org/perldsc.html)"
   ]
  },
  {
   "cell_type": "markdown",
   "metadata": {},
   "source": [
    "# Get More Info at Course Page\n",
    "\n",
    "see <a href=\"https://hprc.tamu.edu/training/intro_perl.html\">https://hprc.tamu.edu/training/intro_perl.html</a>\n",
    "\n",
    "- Intermediate Scripting slides cover some Perl and bash\n",
    "- Extended Perl Class has slides from past years in which short course was taught over several days"
   ]
  },
  {
   "cell_type": "markdown",
   "metadata": {},
   "source": [
    "[back to top](#TOC)"
   ]
  }
 ],
 "metadata": {
  "kernelspec": {
   "display_name": "Python 3",
   "language": "python",
   "name": "python3"
  },
  "language_info": {
   "codemirror_mode": {
    "name": "ipython",
    "version": 3
   },
   "file_extension": ".py",
   "mimetype": "text/x-python",
   "name": "python",
   "nbconvert_exporter": "python",
   "pygments_lexer": "ipython3",
   "version": "3.6.8"
  }
 },
 "nbformat": 4,
 "nbformat_minor": 2
}
